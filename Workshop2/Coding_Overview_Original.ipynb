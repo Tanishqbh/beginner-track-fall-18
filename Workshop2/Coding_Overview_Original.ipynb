{
 "cells": [
  {
   "cell_type": "markdown",
   "metadata": {
    "colab_type": "text",
    "id": "RS0bpNdPSsPH"
   },
   "source": [
    "# ACM AI | Beginner Track Workshop #2: Code + Math Overview\n",
    "## What you'll learn\n",
    "### Code\n",
    "General coding constructs like loops, conditionals, functions etc. We'll also go over concepts used extensively in Machine Learning and the rest of our series: Vectors and manipulating Vectors through code.\n",
    "\n",
    "### Math\n",
    "Linear Algebra concepts like Matrix Multiplication, vector addition, dot products, etc. We'll be going over concepts from Multivariable Calculus like gradients and partial derivatives, but we'll also give you the Single Variable Calculus equivalent.\n",
    "\n",
    "So let's get into it!\n",
    "\n",
    "## Why do we code?\n",
    "Humans are generally smarter than computers (for now), but machines can perform some types of functions quickly and repeatedly. The sheer speed of computers is what makes them indipensible. To make computers use that speed in ways we want them to, we code.\n",
    "\n",
    "**Quick notes** before we get to the code examples:\n",
    "* We use the print() function to output things. If you're unsure what this means, don't worry about it - take it as a black box and just know you can use the print() function to output things in later exercises.\n",
    "*  Indentation matters in python. Keep indentation consistent.\n",
    "\n",
    "### So what are some things a computer can do?\n",
    "A computer can **store data.**\n",
    "\n",
    "We store \"singular\" data by using **variables**. In Python, you do not have to specify the type of variable upon creation. However, it is still useful to know the most common data types.\n",
    "\n",
    "**Numbers**\n",
    "   *   **int:** integer.\n",
    "   *   **double / float:** numbers with decimal places.\n",
    "   \n",
    "**Strings / chars**\n",
    "   *   **character (char for short):** a single character, ex. 'a', '1' - we usually put chars in single quotes.\n",
    "   *   **string:** a sequence of characters. We usually put strings in double or single quotes, ex. \"Artificial intelligence probably won't end the world\", 'Andrew Ng is cool.'\n",
    "   *  Note: Strings and chars have lots of useful functions that are good to know. We won't spend time on them here, though.\n",
    "   \n",
    "**Boolean:** has value of true or false.\n",
    "\n",
    "\n",
    "It is also important to know basic **math operations** available to you. Below are the five most important ones, with code examples below:\n",
    "\n",
    "**Addition: +**\n"
   ]
  },
  {
   "cell_type": "code",
   "execution_count": null,
   "metadata": {
    "colab": {
     "base_uri": "https://localhost:8080/",
     "height": 34
    },
    "colab_type": "code",
    "id": "sep30FFl_-IR",
    "outputId": "9da0b397-83ad-422f-c494-8406f98ad1ea"
   },
   "outputs": [],
   "source": [
    "y = 2 + 3\n",
    "print(y)"
   ]
  },
  {
   "cell_type": "markdown",
   "metadata": {
    "colab_type": "text",
    "id": "SOSEK1dG_-fi"
   },
   "source": [
    "**   Subtraction: - **\n",
    "\n",
    "\n",
    "   *   Ex. z = 5 - 1\n",
    "   \n",
    "** Multiplication: * **\n",
    "   *   Ex. w = 6 * 5\n",
    "   *   **Important note:** You cannot use implicit multiplication in most coding languages, including Python. Saying 'x = yz' to make x have the value of y and z's product will NOT give you the result you want.\n",
    "\n"
   ]
  },
  {
   "cell_type": "code",
   "execution_count": null,
   "metadata": {
    "colab": {
     "base_uri": "https://localhost:8080/",
     "height": 34
    },
    "colab_type": "code",
    "id": "EHHWwYBeA-Jq",
    "outputId": "7f034731-167d-4094-94e0-057da0f9cec4"
   },
   "outputs": [],
   "source": [
    "y = 6 * 5\n",
    "print(y)"
   ]
  },
  {
   "cell_type": "code",
   "execution_count": null,
   "metadata": {
    "colab": {
     "base_uri": "https://localhost:8080/",
     "height": 215
    },
    "colab_type": "code",
    "id": "4uLKMIECBAXn",
    "outputId": "d8e2a5cf-e805-47a2-c595-cd437d42697f"
   },
   "outputs": [],
   "source": [
    "x = 2\n",
    "y = 3\n",
    "z = xy\n",
    "print(z)"
   ]
  },
  {
   "cell_type": "markdown",
   "metadata": {
    "colab_type": "text",
    "id": "m6DoODn0A76C"
   },
   "source": [
    "Notice how the second \"incorrect\" form of multiplication results in an error - the computer thinks xy is the name of another variable.\n",
    "\n",
    "**Division: /**\n",
    "   *   Ex. s = 60 / 3\n",
    "   *   Unlike in other languages in which dividing two integers results in a solely integer value, Python does not require its variables to have data types upon declaration so you don't have to worry too much about lack of precision.\n",
    "   \n",
    "**Mod: %**\n",
    "   *   Mod tells you the remainder when divide one number by another. It is best illustrated by an example:\n",
    "   *   Ex. 23 % 5 = 3 because if you do calculate 23 by 5, you'll get a remainder of 3.\n",
    "   *   Negative mods get a little messy, so ignore them for now.\n"
   ]
  },
  {
   "cell_type": "code",
   "execution_count": null,
   "metadata": {
    "colab": {},
    "colab_type": "code",
    "id": "FZG3qgagBOnF"
   },
   "outputs": [],
   "source": [
    "q = 23 % 5\n",
    "print(q)\n",
    "r = 42 % 2\n",
    "print(r)"
   ]
  },
  {
   "cell_type": "markdown",
   "metadata": {
    "colab_type": "text",
    "id": "A0qlYVW9BO9P"
   },
   "source": [
    "If you want to store multiple variables in one place, you can use data structures. We present two of the most basic structures below:\n",
    "\n",
    "**Arrays**\n",
    "\n",
    "An **array** is a collection of elements of the same type. To create arrays, you'll need to import array module (see below)."
   ]
  },
  {
   "cell_type": "code",
   "execution_count": null,
   "metadata": {
    "colab": {
     "base_uri": "https://localhost:8080/",
     "height": 34
    },
    "colab_type": "code",
    "id": "QPlfNnUrLgbB",
    "outputId": "8cd1cf30-4cd6-48e1-e4c5-c3ec6bc5c463"
   },
   "outputs": [],
   "source": [
    "import array as arr\n",
    "a = arr.array('d', [3.2, 4.8, 7.6, 9.4])\n",
    "print(a)"
   ]
  },
  {
   "cell_type": "markdown",
   "metadata": {
    "colab_type": "text",
    "id": "bfnFgPipLgo8"
   },
   "source": [
    "The letter in the beginning of the array, 'd', is a **type code**. This determines the type of array during creation. Click [here](http://2.bp.blogspot.com/-ANt3X8fY0Ag/T3pY7rlB1fI/AAAAAAAAHSs/iNQkOPQsTa0/s1600/array-1.JPG) to see some more type codes you can use.\n",
    "\n",
    "You can access array elements by using index. **The first element is at index 0!**\n"
   ]
  },
  {
   "cell_type": "code",
   "execution_count": null,
   "metadata": {
    "colab": {
     "base_uri": "https://localhost:8080/",
     "height": 52
    },
    "colab_type": "code",
    "id": "3VhENLDeNhzo",
    "outputId": "c572d775-17e0-4283-a6d6-532d0e85c73e"
   },
   "outputs": [],
   "source": [
    "print(\"first element: \", a[0])\n",
    "print(\"second element: \", a[1])"
   ]
  },
  {
   "cell_type": "markdown",
   "metadata": {
    "colab_type": "text",
    "id": "w8y5LdqXOjhz"
   },
   "source": [
    "Try it yourself - print out the last element of the array."
   ]
  },
  {
   "cell_type": "code",
   "execution_count": null,
   "metadata": {
    "colab": {},
    "colab_type": "code",
    "id": "oTIfb7zPOjyG"
   },
   "outputs": [],
   "source": [
    "## TODO - PRINT LAST ELEMENT OF ARRAY"
   ]
  },
  {
   "cell_type": "markdown",
   "metadata": {
    "colab_type": "text",
    "id": "xleX7vhLOVOL"
   },
   "source": [
    "Arrays are **mutable** - their elements can be changed! See the example below.\n",
    "\n"
   ]
  },
  {
   "cell_type": "code",
   "execution_count": null,
   "metadata": {
    "colab": {
     "base_uri": "https://localhost:8080/",
     "height": 34
    },
    "colab_type": "code",
    "id": "0x6YtE50Ox85",
    "outputId": "fccdd5b7-dc24-426a-8791-be53c2aa3782"
   },
   "outputs": [],
   "source": [
    "a[0] = 1.9\n",
    "print(a)"
   ]
  },
  {
   "cell_type": "markdown",
   "metadata": {
    "colab_type": "text",
    "id": "vsAZrlnwO6eT"
   },
   "source": [
    "Now try it yourself - change the second element of the array to 2.7 and change the last element to 8.1."
   ]
  },
  {
   "cell_type": "code",
   "execution_count": null,
   "metadata": {
    "colab": {},
    "colab_type": "code",
    "id": "o3KwVHSsPCJ6"
   },
   "outputs": [],
   "source": [
    "## TODO - IMPLEMENT CHANGES SPECIFIED ABOVE"
   ]
  },
  {
   "cell_type": "markdown",
   "metadata": {
    "colab_type": "text",
    "id": "M5t9NuG8PUNK"
   },
   "source": [
    "You can add one item to a list using the append() method.\n",
    "\n",
    "Try it yourself - add 10.3 to the array using the append() method."
   ]
  },
  {
   "cell_type": "code",
   "execution_count": null,
   "metadata": {
    "colab": {},
    "colab_type": "code",
    "id": "lLcHLU0WR_DX"
   },
   "outputs": [],
   "source": [
    "## TODO - ADD 10.3 TO ARRAY"
   ]
  },
  {
   "cell_type": "markdown",
   "metadata": {
    "colab_type": "text",
    "id": "h6JImDEjSCLW"
   },
   "source": [
    "You can add multiple items to an array using the extend() method. \n",
    "\n",
    "See the example below, then complete the exercise below - it'll test your knowledge of all the information presented about arrays so far. All of these skills will be essential when doing our ML coding workshops this quarter, so make sure you understand these concepts and Python as well as possible!"
   ]
  },
  {
   "cell_type": "code",
   "execution_count": null,
   "metadata": {
    "colab": {},
    "colab_type": "code",
    "id": "h4iX-BrGXFUg"
   },
   "outputs": [],
   "source": [
    "a.extend([12.4, 14.9, 16.4])\n",
    "print(a)"
   ]
  },
  {
   "cell_type": "markdown",
   "metadata": {
    "colab_type": "text",
    "id": "Zay7aFHrU4ky"
   },
   "source": [
    "Replace the lines below with the code indicated. When you're done, run your code - we'll have the correct answers up for you to compare yours with."
   ]
  },
  {
   "cell_type": "code",
   "execution_count": null,
   "metadata": {
    "colab": {},
    "colab_type": "code",
    "id": "OCw_4sOmXFfI"
   },
   "outputs": [],
   "source": [
    "## DECLARE AN ARRAY WITH THREE ELEMENTS: \"CAT\", \"DOG\", AND \"DRAGON\"\n",
    "## PRINT THE SECOND ELEMENT OF THE ARRAY\n",
    "## CHANGE THE THIRD ELEMENT TO \"GRIFFIN\"\n",
    "## ADD TWO ELEMENTS TO THE ARRAY: \"WOLF\", \"LLAMA\"\n",
    "## ADD \"BEAR\" USING APPEND()"
   ]
  },
  {
   "cell_type": "markdown",
   "metadata": {
    "colab_type": "text",
    "id": "zLu8BtPZY92k"
   },
   "source": [
    "**Delete** elements from an array (or an entire array) using the del statement. See the example below."
   ]
  },
  {
   "cell_type": "code",
   "execution_count": null,
   "metadata": {
    "colab": {
     "base_uri": "https://localhost:8080/",
     "height": 240
    },
    "colab_type": "code",
    "id": "Ww3HAVEtZS0c",
    "outputId": "9e4279d9-f968-47cd-f0ac-f4d5e4390679"
   },
   "outputs": [],
   "source": [
    "import array as arr\n",
    "todel = arr.array('i', [4, 6, 8])\n",
    "print(todel)\n",
    "del todel[2]\n",
    "print(todel)\n",
    "del todel\n",
    "print(todel)"
   ]
  },
  {
   "cell_type": "markdown",
   "metadata": {
    "colab_type": "text",
    "id": "cxUaSp3fkNZD"
   },
   "source": [
    "**If / else**\n",
    "\n",
    "An **if / else statement** is a conditional statement that runs a different set of statements depending on whether an expression is true or false. \n",
    "\n",
    "Check out the example below (and change it if you'd like!) to see how it works."
   ]
  },
  {
   "cell_type": "code",
   "execution_count": null,
   "metadata": {
    "colab": {
     "base_uri": "https://localhost:8080/",
     "height": 34
    },
    "colab_type": "code",
    "id": "BHrfUyLolCbc",
    "outputId": "9259a0b7-3bf6-49a6-fa11-d3a4a2fa608f"
   },
   "outputs": [],
   "source": [
    "x = 5 ## CHANGE THIS VALUE TO SEE DIFFERENT OUTPUTS\n",
    "\n",
    "if x > 5:\n",
    "    print(\"greater than 5\")\n",
    "elif x < 5:\n",
    "    print (\"less than 5\")\n",
    "else:\n",
    "    print (\"equal to 5\")"
   ]
  },
  {
   "cell_type": "markdown",
   "metadata": {
    "colab_type": "text",
    "id": "o-JqE6ZKl16z"
   },
   "source": [
    "Want to iterate over certain values but don't want to write them all out? Use **for / while** loops - see the example below."
   ]
  },
  {
   "cell_type": "code",
   "execution_count": null,
   "metadata": {
    "colab": {
     "base_uri": "https://localhost:8080/",
     "height": 158
    },
    "colab_type": "code",
    "id": "tCBq61HLnkNq",
    "outputId": "7b9348d0-682d-4c2b-97b8-33561f7a9120"
   },
   "outputs": [],
   "source": [
    "for i in range(4, 8):\n",
    "    print(i)\n",
    "\n",
    "print()\n",
    "\n",
    "i = 0\n",
    "while i < 5:\n",
    "    print(i)\n",
    "    i += 2"
   ]
  },
  {
   "cell_type": "markdown",
   "metadata": {
    "colab_type": "text",
    "id": "FGYg4MvENgnj"
   },
   "source": [
    "**Functions**\n",
    "\n",
    "Oftentimes, we see the same snippet of code being used in different parts of the program. Instead of writing out this snippet every time we need it, we think of it as one whole unit, we give this unit a name, and we run this unit whenever we need to run the snippet of code. This unit is called a **function.**\n",
    "\n",
    "We give these functions intuitive names, which are often descriptive of the task the function performs.\n",
    "\n",
    "To define a function in Python, use the syntax below:"
   ]
  },
  {
   "cell_type": "code",
   "execution_count": null,
   "metadata": {
    "colab": {},
    "colab_type": "code",
    "id": "eqtL66fIojUy"
   },
   "outputs": [],
   "source": [
    "def func_name():\n",
    "    print(\"Hello from a function\")"
   ]
  },
  {
   "cell_type": "markdown",
   "metadata": {
    "colab_type": "text",
    "id": "Y7FBch6eZ5NW"
   },
   "source": [
    "**Libraries**\n",
    "\n",
    "Libraries are essentially groups of functions that have been written for you so that you don't have to write them all yourself. They're super useful and save us a lot of time.\n",
    "\n",
    "The library we'll be using throughought this series is Numpy. Numpy is a math library for Python. To use the Numpy library, you have to import it - you'll see examples of this in the math section below."
   ]
  },
  {
   "cell_type": "markdown",
   "metadata": {
    "colab_type": "text",
    "id": "ldhsplWdolPb"
   },
   "source": [
    "## Let's go over math now!\n",
    "\n",
    "### Vectors\n",
    "\n",
    "A **vector** or n-vector, for our purposes, is a 1-dimensional list/array of n data items of the same type.\n",
    "\n",
    "### Matrices\n",
    "\n",
    "A **matrix** is a 2-dimensional list/array. It can be thought of as a list of lists of vectors.\n",
    "\n",
    "We'll use numpy to work with vectors and matrices."
   ]
  },
  {
   "cell_type": "code",
   "execution_count": null,
   "metadata": {
    "colab": {},
    "colab_type": "code",
    "id": "J8yyIatlam0B"
   },
   "outputs": [],
   "source": [
    "import numpy as np"
   ]
  },
  {
   "cell_type": "markdown",
   "metadata": {
    "colab_type": "text",
    "id": "2va70gyxaoVd"
   },
   "source": [
    "### Operations on Vectors and Matrices\n",
    "\n",
    "#### Vector Addition\n",
    "\n",
    "\n",
    "![vector addition general](https://drive.google.com/uc?export=view&id=14C3Yh0lqYOysfoW4dEMoIHLk_chNo7sp)\n",
    "\n"
   ]
  },
  {
   "cell_type": "code",
   "execution_count": null,
   "metadata": {
    "colab": {},
    "colab_type": "code",
    "id": "iOwUUe2i9_3e"
   },
   "outputs": [],
   "source": [
    "## TODO - WRITE A FUNCTION THAT IMPLEMENTS VECTOR ADDITION.\n",
    "def vAdd(v1, v2):\n",
    "    #TODO"
   ]
  },
  {
   "cell_type": "markdown",
   "metadata": {
    "colab_type": "text",
    "id": "TgsgGIxC-AHm"
   },
   "source": [
    "\n",
    "#### Dot product\n",
    "\n",
    "The **dot product**  is a value which expresses the angluar relationship between two vectors. \n",
    "\n",
    "$A$ ・$B$ = $|A|$ $|B|$ $cos(θ)$, where $θ$ is the angle between the vectors.\n",
    "\n",
    "For our purposes though, we'll consider the dot product to be the **sum of the element-wise products**.\n",
    "\n",
    "![dot product general](https://drive.google.com/uc?export=view&id=1JA_3zl3JYOz5x433inQM0GQK3rEpecZy)\n"
   ]
  },
  {
   "cell_type": "code",
   "execution_count": null,
   "metadata": {},
   "outputs": [],
   "source": [
    "## TODO - WRITE/USE A FUNCTION THAT IMPLEMENTS VECTOR DOT PRODUCT."
   ]
  },
  {
   "cell_type": "markdown",
   "metadata": {
    "colab_type": "text",
    "id": "yw7JvRjs-Q_-"
   },
   "source": [
    "#### Transpose of a matrix\n",
    "\n",
    "To **transpose** a matrix to essentially make the matrix's rows its colums, and vice versa. This will best be illustrated through an example:\n",
    "\n",
    "Say $A$ is the matrix below, and its dimensions are 2 x 4. Then the transpose of $A$, denoted as $A^T$, will have the dimensions 4 x 2. See the images below.\n",
    "\n",
    "![A original](https://drive.google.com/uc?id=1_sNVKOz3SNSgqXI0cvrdj5Mi8kV2bcs0)\n",
    "\n",
    "\n",
    "![A transposed](https://drive.google.com/uc?id=1zy6uOYkctGz3EprBHE4uuR7oItLP5kHS)\n",
    "\n",
    "\n",
    "\n",
    "\n"
   ]
  },
  {
   "cell_type": "code",
   "execution_count": null,
   "metadata": {},
   "outputs": [],
   "source": [
    "## TODO - WRITE/USE A FUNCTION THAT IMPLEMENTS MATRIX TRANSPOSE."
   ]
  },
  {
   "cell_type": "markdown",
   "metadata": {},
   "source": [
    "#### Matrix - Vector Multiplication\n",
    "\n",
    "![matrix - vector multiplication general](https://drive.google.com/uc?export=view&id=1iXT7qxE5iDX_PCsF6WSC26YScQ53H05f)"
   ]
  },
  {
   "cell_type": "markdown",
   "metadata": {},
   "source": [
    "#### Matrix - Matrix Multiplication\n",
    "\n",
    "* You can only multiply two matrices $X$ and $Y$ if $X$ has dimensions $a$ x $b$ and $Y$ has dimension $b$ x $c$. The resulting matrix will have the dimensions $a$ x $c$.\n",
    "* Matrix multiplication is NOT commutative - $XY$ does NOT necessarily equal $YX$!"
   ]
  },
  {
   "cell_type": "code",
   "execution_count": null,
   "metadata": {
    "colab": {},
    "colab_type": "code",
    "id": "NAPspt_Z-QzZ"
   },
   "outputs": [],
   "source": [
    "## TODO - IMPLEMENT A FUNCTION WHICH IMPLEMENTS MATRIX VECTOR MULTIPLICATION"
   ]
  },
  {
   "cell_type": "markdown",
   "metadata": {
    "colab_type": "text",
    "id": "5e3jsfsnakIc"
   },
   "source": [
    "## Gradient descent introduction\n",
    "\n",
    "Given a function $f(x)$, how would you find the minimum value?\n",
    "\n",
    "Consider the function $f(x) = x^2$.\n",
    "\n",
    "Following this intuition, you want to move down the \"gradient\" - in the 2-D case, slope - to reach the minimum. You find the slope by taking the **derivative**.\n",
    "\n",
    "Then change x such that the function's output at the new value of x decreases:\n",
    "\n",
    "$x$<sub>$new$</sub> = $x$<sub>$old$</sub> $-$ $α \\frac{df(x)}{dt}$\n",
    "\n",
    "Similarly, the magnitude of the vector that is the gradient tells you what the slope of the hill is in that direction.\n",
    "\n",
    "Why does this work? (Note - this works for any function, not just $x^2$.)\n",
    "\n",
    "Do this until you come close to 0. See code below for an implementation of the above formula.\n",
    "\n",
    "\n",
    "\n"
   ]
  },
  {
   "cell_type": "code",
   "execution_count": null,
   "metadata": {
    "colab": {
     "base_uri": "https://localhost:8080/",
     "height": 1794
    },
    "colab_type": "code",
    "id": "_KF8D6aUxL96",
    "outputId": "0c8a84f0-6b42-4111-aa50-e3ccae01abbf"
   },
   "outputs": [],
   "source": [
    "num_epochs = 100\n",
    "learning_rate = 0.1\n",
    "x = 100\n",
    "\n",
    "def derivativeAt(x):\n",
    "    return 2 * x\n",
    "\n",
    "for i in range(num_epochs):\n",
    "    ##TODO: IMPLEMENT THE FORMULA FOR UPDATING X SHOWN ABOVE\n",
    "    print(x)"
   ]
  },
  {
   "cell_type": "markdown",
   "metadata": {
    "colab_type": "text",
    "id": "w_iV9-rNxcV8"
   },
   "source": [
    "#### Gradient\n",
    "\n",
    "What would we do if f has more than one variable?\n",
    "\n",
    "#### Back to the slides.\n",
    "\n",
    "## ...\n",
    "\n",
    "Remember the concept of the gradient from the slides? It points in the direction of steepest ascent. Thus, the negation (flipping the sign) of the gradient will point in the direction of **steepest descent.**\n",
    "\n",
    "If you have an entirely positive function and want to find when it hits 0, then when starting at any random point you want to find the direction of steepest descent. Finding the gradient and flipping its sign will give you this direction. This is the intuition behind **gradient descent**. This concept is crucial to machine learning, so remember this for next week - we'll cover gradient descent in more depth then.\n",
    "\n",
    "**Example**\n",
    "\n",
    "Say $f(x, y) = 3x^2 + 2y^2 + x + 3y + 17$"
   ]
  },
  {
   "cell_type": "code",
   "execution_count": null,
   "metadata": {
    "colab": {},
    "colab_type": "code",
    "id": "5-qxP_-5zV-q"
   },
   "outputs": [],
   "source": [
    "num_epochs = 100\n",
    "learning_rate = 0.1\n",
    "variables = numpy.array([220,76])\n",
    "\n",
    "def gradient(variables):\n",
    "    dfdx = #TODO\n",
    "    dfdy = #TODO\n",
    "    return numpy.array([dfdx, dfdy])\n",
    "\n",
    "for i in range(num_epochs):\n",
    "    ##TODO: IMPLEMENTS THE FORMULA (WHAT MIGHT IT BE?) FOR UPDATING X THE VARIABLES.\n",
    "    print(variables)"
   ]
  },
  {
   "cell_type": "markdown",
   "metadata": {
    "colab_type": "text",
    "id": "QnAKSlSZxscc"
   },
   "source": [
    "### Tensorflow\n",
    "\n",
    "Tensorflow is an important tool that we won't be using for our coding sessions this quarter, but if we have extra time at the end of sessions we'll cover a little bit of it so you're more comfortable with it when it shows up in advanced track. \n",
    "\n",
    "Learning Tensorflow is **entirely optional!** Our beginner track coding sessions will not use any - we'll be sticking to numpy. That being said, it's an extremely helpful tool so if you're comfortable with the material being presented, we encourage you to go on and pick up some Tensorflow as well.\n",
    "\n",
    "You can find the Tensorflow notebook [here](https://github.com/uclaacmai/beginner-track-fall-18/blob/master/Workshop2/Tensorflow_intro.ipynb).\n",
    "\n",
    "If you'd like to work on that notebook, clone our repository: https://github.com/uclaacmai/beginner-track-fall-18\n",
    "Upload Tenorflow_intro.ipynb onto Google Colab and start coding!\n",
    "\n"
   ]
  },
  {
   "cell_type": "code",
   "execution_count": null,
   "metadata": {},
   "outputs": [],
   "source": []
  }
 ],
 "metadata": {
  "colab": {
   "collapsed_sections": [],
   "name": "Coding_Overview_Original.ipynb",
   "provenance": [],
   "version": "0.3.2"
  },
  "kernelspec": {
   "display_name": "Python 3",
   "language": "python",
   "name": "python3"
  },
  "language_info": {
   "codemirror_mode": {
    "name": "ipython",
    "version": 3
   },
   "file_extension": ".py",
   "mimetype": "text/x-python",
   "name": "python",
   "nbconvert_exporter": "python",
   "pygments_lexer": "ipython3",
   "version": "3.6.5"
  }
 },
 "nbformat": 4,
 "nbformat_minor": 1
}
