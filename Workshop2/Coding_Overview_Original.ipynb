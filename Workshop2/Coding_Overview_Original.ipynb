{
  "nbformat": 4,
  "nbformat_minor": 0,
  "metadata": {
    "colab": {
      "name": "Coding_Overview_Original.ipynb",
      "version": "0.3.2",
      "provenance": [],
      "collapsed_sections": []
    },
    "kernelspec": {
      "name": "python3",
      "display_name": "Python 3"
    }
  },
  "cells": [
    {
      "metadata": {
        "id": "RS0bpNdPSsPH",
        "colab_type": "text"
      },
      "cell_type": "markdown",
      "source": [
        "# ACM AI | Beginner Track Workshop #2: Code + Math Overview\n",
        "## What you'll learn\n",
        "###Code\n",
        "General coding constructs like loops, conditionals, functions etc. We'll also go over concepts used extensively in Machine Learning and the rest of our series: Vectors and manipulating Vectors through code.\n",
        "\n",
        "###Math\n",
        "Linear Algebra concepts like Matrix Multiplication, vector addition, dot products, etc. We'll be going over concepts from Multivariable Calculus like gradients and partial derivatives, but we'll also give you the Single Variable Calculus equivalent.\n",
        "\n",
        "So let's get into it!\n",
        "\n",
        "##Why do we code?\n",
        "Humans are generally smarter than computers (for now), but machines can perform some types of functions quickly and repeatedly. The sheer speed of computers is what makes them indipensible. To make computers use that speed in ways we want them to, we code.\n",
        "\n",
        "** Quick notes ** before we get to the code examples:\n",
        "* We use the print() function to output things. If you're unsure what this means, don't worry about it - take it as a black box and just know you can use the print() function to output things in later exercises.\n",
        "*  Indentation matters in python. Keep indentation consistent.\n",
        "\n",
        "###So what are some things a computer can do?\n",
        "A computer can **store data.**\n",
        "\n",
        "We store \"singular\" data by using **variables**. In Python, you do not have to specify the type of variable upon creation. However, it is still useful to know the most common data types.\n",
        "\n",
        "**  Numbers **\n",
        "   *   **int:** integer.\n",
        "   *   **double / float:** numbers with decimal places.\n",
        "   \n",
        "**Strings / chars**\n",
        "   *   **character (char for short):** a single character, ex. 'a', '1' - we usually put chars in single quotes.\n",
        "   *   **string:** a sequence of characters. We usually put strings in double or single quotes, ex. \"Artificial intelligence probably won't end the world\", 'Andrew Ng is cool.'\n",
        "   *  Note: Strings and chars have lots of useful functions that are good to know. We won't spend time on them here, though.\n",
        "   \n",
        "**Boolean:** has value of true or false.\n",
        "\n",
        "\n",
        "It is also important to know basic **math operations** available to you. Below are the five most important ones, with code examples below:\n",
        "\n",
        "**   Addition: + **\n"
      ]
    },
    {
      "metadata": {
        "id": "sep30FFl_-IR",
        "colab_type": "code",
        "colab": {
          "base_uri": "https://localhost:8080/",
          "height": 34
        },
        "outputId": "9da0b397-83ad-422f-c494-8406f98ad1ea"
      },
      "cell_type": "code",
      "source": [
        "y = 2 + 3\n",
        "print(y)"
      ],
      "execution_count": 1,
      "outputs": [
        {
          "output_type": "stream",
          "text": [
            "5\n"
          ],
          "name": "stdout"
        }
      ]
    },
    {
      "metadata": {
        "id": "SOSEK1dG_-fi",
        "colab_type": "text"
      },
      "cell_type": "markdown",
      "source": [
        "**   Subtraction: - **\n",
        "\n",
        "\n",
        "   *   Ex. z = 5 - 1\n",
        "   \n",
        "** Multiplication: * **\n",
        "   *   Ex. w = 6 * 5\n",
        "   *   **Important note:** You cannot use implicit multiplication in most coding languages, including Python. Saying 'x = yz' to make x have the value of y and z's product will NOT give you the result you want.\n",
        "\n"
      ]
    },
    {
      "metadata": {
        "id": "EHHWwYBeA-Jq",
        "colab_type": "code",
        "colab": {
          "base_uri": "https://localhost:8080/",
          "height": 34
        },
        "outputId": "7f034731-167d-4094-94e0-057da0f9cec4"
      },
      "cell_type": "code",
      "source": [
        "y = 6 * 5\n",
        "print(y)"
      ],
      "execution_count": 2,
      "outputs": [
        {
          "output_type": "stream",
          "text": [
            "30\n"
          ],
          "name": "stdout"
        }
      ]
    },
    {
      "metadata": {
        "id": "4uLKMIECBAXn",
        "colab_type": "code",
        "colab": {
          "base_uri": "https://localhost:8080/",
          "height": 215
        },
        "outputId": "d8e2a5cf-e805-47a2-c595-cd437d42697f"
      },
      "cell_type": "code",
      "source": [
        "x = 2\n",
        "y = 3\n",
        "z = xy\n",
        "print(z)"
      ],
      "execution_count": 10,
      "outputs": [
        {
          "output_type": "error",
          "ename": "NameError",
          "evalue": "ignored",
          "traceback": [
            "\u001b[0;31m---------------------------------------------------------------------------\u001b[0m",
            "\u001b[0;31mNameError\u001b[0m                                 Traceback (most recent call last)",
            "\u001b[0;32m<ipython-input-10-cd0bdfb07194>\u001b[0m in \u001b[0;36m<module>\u001b[0;34m()\u001b[0m\n\u001b[1;32m      1\u001b[0m \u001b[0mx\u001b[0m \u001b[0;34m=\u001b[0m \u001b[0;36m2\u001b[0m\u001b[0;34m\u001b[0m\u001b[0m\n\u001b[1;32m      2\u001b[0m \u001b[0my\u001b[0m \u001b[0;34m=\u001b[0m \u001b[0;36m3\u001b[0m\u001b[0;34m\u001b[0m\u001b[0m\n\u001b[0;32m----> 3\u001b[0;31m \u001b[0mz\u001b[0m \u001b[0;34m=\u001b[0m \u001b[0mxy\u001b[0m\u001b[0;34m\u001b[0m\u001b[0m\n\u001b[0m\u001b[1;32m      4\u001b[0m \u001b[0mprint\u001b[0m\u001b[0;34m(\u001b[0m\u001b[0mz\u001b[0m\u001b[0;34m)\u001b[0m\u001b[0;34m\u001b[0m\u001b[0m\n",
            "\u001b[0;31mNameError\u001b[0m: name 'xy' is not defined"
          ]
        }
      ]
    },
    {
      "metadata": {
        "id": "m6DoODn0A76C",
        "colab_type": "text"
      },
      "cell_type": "markdown",
      "source": [
        "Notice how the second \"incorrect\" form of multiplication results in an error - the computer thinks xy is the name of another variable.\n",
        "\n",
        "**  Division: / **\n",
        "   *   Ex. s = 60 / 3\n",
        "   *   Unlike in other languages in which dividing two integers results in a solely integer value, Python does not require its variables to have data types upon declaration so you don't have to worry too much about lack of precision.\n",
        "   \n",
        "**  Mod: % **\n",
        "   *   Mod tells you the remainder when divide one number by another. It is best illustrated by an example:\n",
        "   *   Ex. 23 % 5 = 3 because if you do calculate 23 by 5, you'll get a remainder of 3.\n",
        "   *   Negative mods get a little messy, so ignore them for now.\n"
      ]
    },
    {
      "metadata": {
        "id": "FZG3qgagBOnF",
        "colab_type": "code",
        "colab": {}
      },
      "cell_type": "code",
      "source": [
        "q = 23 % 5\n",
        "print(q)\n",
        "r = 42 % 2\n",
        "print(r)"
      ],
      "execution_count": 0,
      "outputs": []
    },
    {
      "metadata": {
        "id": "A0qlYVW9BO9P",
        "colab_type": "text"
      },
      "cell_type": "markdown",
      "source": [
        "If you want to store multiple variables in one place, you can use data structures. We present two of the most basic structures below:\n",
        "\n",
        "**Arrays**\n",
        "\n",
        "An **array** is a collection of elements of the same type. To create arrays, you'll need to import array module (see below)."
      ]
    },
    {
      "metadata": {
        "id": "QPlfNnUrLgbB",
        "colab_type": "code",
        "colab": {
          "base_uri": "https://localhost:8080/",
          "height": 34
        },
        "outputId": "8cd1cf30-4cd6-48e1-e4c5-c3ec6bc5c463"
      },
      "cell_type": "code",
      "source": [
        "import array as arr\n",
        "a = arr.array('d', [3.2, 4.8, 7.6, 9.4])\n",
        "print(a)"
      ],
      "execution_count": 8,
      "outputs": [
        {
          "output_type": "stream",
          "text": [
            "array('d', [3.2, 4.8, 7.6, 9.4])\n"
          ],
          "name": "stdout"
        }
      ]
    },
    {
      "metadata": {
        "id": "bfnFgPipLgo8",
        "colab_type": "text"
      },
      "cell_type": "markdown",
      "source": [
        "The letter in the beginning of the array, 'd', is a **type code**. This determines the type of array during creation. Click [here](http://2.bp.blogspot.com/-ANt3X8fY0Ag/T3pY7rlB1fI/AAAAAAAAHSs/iNQkOPQsTa0/s1600/array-1.JPG) to see some more type codes you can use.\n",
        "\n",
        "You can access array elements by using index. **The first element is at index 0!**\n"
      ]
    },
    {
      "metadata": {
        "id": "3VhENLDeNhzo",
        "colab_type": "code",
        "colab": {
          "base_uri": "https://localhost:8080/",
          "height": 52
        },
        "outputId": "c572d775-17e0-4283-a6d6-532d0e85c73e"
      },
      "cell_type": "code",
      "source": [
        "print(\"first element: \", a[0])\n",
        "print(\"second element: \", a[1])"
      ],
      "execution_count": 7,
      "outputs": [
        {
          "output_type": "stream",
          "text": [
            "first element:  3.2\n",
            "second element:  4.8\n"
          ],
          "name": "stdout"
        }
      ]
    },
    {
      "metadata": {
        "id": "w8y5LdqXOjhz",
        "colab_type": "text"
      },
      "cell_type": "markdown",
      "source": [
        "Try it yourself - print out the last element of the array."
      ]
    },
    {
      "metadata": {
        "id": "oTIfb7zPOjyG",
        "colab_type": "code",
        "colab": {}
      },
      "cell_type": "code",
      "source": [
        "## TODO - PRINT LAST ELEMENT OF ARRAY"
      ],
      "execution_count": 0,
      "outputs": []
    },
    {
      "metadata": {
        "id": "xleX7vhLOVOL",
        "colab_type": "text"
      },
      "cell_type": "markdown",
      "source": [
        "Arrays are **mutable** - their elements can be changed! See the example below.\n",
        "\n"
      ]
    },
    {
      "metadata": {
        "id": "0x6YtE50Ox85",
        "colab_type": "code",
        "colab": {
          "base_uri": "https://localhost:8080/",
          "height": 34
        },
        "outputId": "fccdd5b7-dc24-426a-8791-be53c2aa3782"
      },
      "cell_type": "code",
      "source": [
        "a[0] = 1.9\n",
        "print(a)"
      ],
      "execution_count": 9,
      "outputs": [
        {
          "output_type": "stream",
          "text": [
            "array('d', [1.9, 4.8, 7.6, 9.4])\n"
          ],
          "name": "stdout"
        }
      ]
    },
    {
      "metadata": {
        "id": "vsAZrlnwO6eT",
        "colab_type": "text"
      },
      "cell_type": "markdown",
      "source": [
        "Now try it yourself - change the second element of the array to 2.7 and change the last element to 8.1."
      ]
    },
    {
      "metadata": {
        "id": "o3KwVHSsPCJ6",
        "colab_type": "code",
        "colab": {}
      },
      "cell_type": "code",
      "source": [
        "## TODO - IMPLEMENT CHANGES SPECIFIED ABOVE"
      ],
      "execution_count": 0,
      "outputs": []
    },
    {
      "metadata": {
        "id": "M5t9NuG8PUNK",
        "colab_type": "text"
      },
      "cell_type": "markdown",
      "source": [
        "You can add one item to a list using the append() method.\n",
        "\n",
        "Try it yourself - add 10.3 to the array using the append() method."
      ]
    },
    {
      "metadata": {
        "id": "lLcHLU0WR_DX",
        "colab_type": "code",
        "colab": {}
      },
      "cell_type": "code",
      "source": [
        "## TODO - ADD 10.3 TO ARRAY"
      ],
      "execution_count": 0,
      "outputs": []
    },
    {
      "metadata": {
        "id": "h6JImDEjSCLW",
        "colab_type": "text"
      },
      "cell_type": "markdown",
      "source": [
        "You can add multiple items to an array using the extend() method. \n",
        "\n",
        "See the example below, then complete the exercise below - it'll test your knowledge of all the information presented about arrays so far. All of these skills will be essential when doing our ML coding workshops this quarter, so make sure you understand these concepts and Python as well as possible!"
      ]
    },
    {
      "metadata": {
        "id": "h4iX-BrGXFUg",
        "colab_type": "code",
        "colab": {}
      },
      "cell_type": "code",
      "source": [
        "a.extend([12.4, 14.9, 16.4])\n",
        "print(a)"
      ],
      "execution_count": 0,
      "outputs": []
    },
    {
      "metadata": {
        "id": "Zay7aFHrU4ky",
        "colab_type": "text"
      },
      "cell_type": "markdown",
      "source": [
        "Replace the lines below with the code indicated. When you're done, run your code - we'll have the correct answers up for you to compare yours with."
      ]
    },
    {
      "metadata": {
        "id": "OCw_4sOmXFfI",
        "colab_type": "code",
        "colab": {}
      },
      "cell_type": "code",
      "source": [
        "## DECLARE AN ARRAY WITH THREE ELEMENTS: \"CAT\", \"DOG\", AND \"DRAGON\"\n",
        "## PRINT THE SECOND ELEMENT OF THE ARRAY\n",
        "## CHANGE THE THIRD ELEMENT TO \"GRIFFIN\"\n",
        "## ADD TWO ELEMENTS TO THE ARRAY: \"WOLF\", \"LLAMA\"\n",
        "## ADD \"BEAR\" USING APPEND()"
      ],
      "execution_count": 0,
      "outputs": []
    },
    {
      "metadata": {
        "id": "zLu8BtPZY92k",
        "colab_type": "text"
      },
      "cell_type": "markdown",
      "source": [
        "**Delete** elements from an array (or an entire array) using the del statement. See the example below."
      ]
    },
    {
      "metadata": {
        "id": "Ww3HAVEtZS0c",
        "colab_type": "code",
        "colab": {
          "base_uri": "https://localhost:8080/",
          "height": 240
        },
        "outputId": "9e4279d9-f968-47cd-f0ac-f4d5e4390679"
      },
      "cell_type": "code",
      "source": [
        "import array as arr\n",
        "todel = arr.array('i', [4, 6, 8])\n",
        "print(todel)\n",
        "del todel[2]\n",
        "print(todel)\n",
        "del todel\n",
        "print(todel)"
      ],
      "execution_count": 3,
      "outputs": [
        {
          "output_type": "stream",
          "text": [
            "array('i', [4, 6, 8])\n",
            "array('i', [4, 6])\n"
          ],
          "name": "stdout"
        },
        {
          "output_type": "error",
          "ename": "NameError",
          "evalue": "ignored",
          "traceback": [
            "\u001b[0;31m---------------------------------------------------------------------------\u001b[0m",
            "\u001b[0;31mNameError\u001b[0m                                 Traceback (most recent call last)",
            "\u001b[0;32m<ipython-input-3-61bc960bd310>\u001b[0m in \u001b[0;36m<module>\u001b[0;34m()\u001b[0m\n\u001b[1;32m      5\u001b[0m \u001b[0mprint\u001b[0m\u001b[0;34m(\u001b[0m\u001b[0mtodel\u001b[0m\u001b[0;34m)\u001b[0m\u001b[0;34m\u001b[0m\u001b[0m\n\u001b[1;32m      6\u001b[0m \u001b[0;32mdel\u001b[0m \u001b[0mtodel\u001b[0m\u001b[0;34m\u001b[0m\u001b[0m\n\u001b[0;32m----> 7\u001b[0;31m \u001b[0mprint\u001b[0m\u001b[0;34m(\u001b[0m\u001b[0mtodel\u001b[0m\u001b[0;34m)\u001b[0m\u001b[0;34m\u001b[0m\u001b[0m\n\u001b[0m",
            "\u001b[0;31mNameError\u001b[0m: name 'todel' is not defined"
          ]
        }
      ]
    },
    {
      "metadata": {
        "id": "cxUaSp3fkNZD",
        "colab_type": "text"
      },
      "cell_type": "markdown",
      "source": [
        "** If / else **\n",
        "\n",
        "An ** if / else statement ** is a conditional statement that runs a different set of statements depending on whether an expression is true or false. \n",
        "\n",
        "Check out the example below (and change it if you'd like!) to see how it works."
      ]
    },
    {
      "metadata": {
        "id": "BHrfUyLolCbc",
        "colab_type": "code",
        "colab": {
          "base_uri": "https://localhost:8080/",
          "height": 34
        },
        "outputId": "9259a0b7-3bf6-49a6-fa11-d3a4a2fa608f"
      },
      "cell_type": "code",
      "source": [
        "x = 5 ## CHANGE THIS VALUE TO SEE DIFFERENT OUTPUTS\n",
        "\n",
        "if x > 5:\n",
        "    print(\"greater than 5\")\n",
        "elif x < 5:\n",
        "    print (\"less than 5\")\n",
        "else:\n",
        "    print (\"equal to 5\")"
      ],
      "execution_count": 6,
      "outputs": [
        {
          "output_type": "stream",
          "text": [
            "equal to 5\n"
          ],
          "name": "stdout"
        }
      ]
    },
    {
      "metadata": {
        "id": "o-JqE6ZKl16z",
        "colab_type": "text"
      },
      "cell_type": "markdown",
      "source": [
        "Want to iterate over certain values but don't want to write them all out? Use **for / while** loops - see the example below."
      ]
    },
    {
      "metadata": {
        "id": "tCBq61HLnkNq",
        "colab_type": "code",
        "colab": {
          "base_uri": "https://localhost:8080/",
          "height": 158
        },
        "outputId": "7b9348d0-682d-4c2b-97b8-33561f7a9120"
      },
      "cell_type": "code",
      "source": [
        "for i in range(4, 8):\n",
        "    print(i)\n",
        "\n",
        "print()\n",
        "\n",
        "i = 0\n",
        "while i < 5:\n",
        "    print(i)\n",
        "    i += 2"
      ],
      "execution_count": 9,
      "outputs": [
        {
          "output_type": "stream",
          "text": [
            "4\n",
            "5\n",
            "6\n",
            "7\n",
            "\n",
            "0\n",
            "2\n",
            "4\n"
          ],
          "name": "stdout"
        }
      ]
    },
    {
      "metadata": {
        "id": "FGYg4MvENgnj",
        "colab_type": "text"
      },
      "cell_type": "markdown",
      "source": [
        "** Functions **\n",
        "\n",
        "Oftentimes, we see the same snippet of code being used in different parts of the program. Instead of writing out this snippet every time we need it, we think of it as one whole unit, we give this unit a name, and we run this unit whenever we need to run the snippet of code. This unit is called a **function.**\n",
        "\n",
        "We give these functions intuitive names, which are often descriptive of the task the function performs.\n",
        "\n",
        "To define a function in Python, use the syntax below:"
      ]
    },
    {
      "metadata": {
        "id": "eqtL66fIojUy",
        "colab_type": "code",
        "colab": {}
      },
      "cell_type": "code",
      "source": [
        "def func_name():\n",
        "  print(\"Hello from a function\")"
      ],
      "execution_count": 0,
      "outputs": []
    },
    {
      "metadata": {
        "id": "Y7FBch6eZ5NW",
        "colab_type": "text"
      },
      "cell_type": "markdown",
      "source": [
        "**Libraries**\n",
        "\n",
        "Libraries are essentially groups of functions that have been written for you so that you don't have to write them all yourself. They're super useful and save us a lot of time.\n",
        "\n",
        "The library we'll be using throughought this series is Numpy. Numpy is a math library for Python. To use the Numpy library, you have to import it - you'll see examples of this in the math section below."
      ]
    },
    {
      "metadata": {
        "id": "ldhsplWdolPb",
        "colab_type": "text"
      },
      "cell_type": "markdown",
      "source": [
        "## Let's go over math now!\n",
        "\n",
        "### Vectors\n",
        "\n",
        "A **vector** or n-vector, for our purposes, is a 1-dimensional list/array of n data items of the same type.\n",
        "\n",
        "### Matrices\n",
        "\n",
        "A **matrix** is a 2-dimensional list/array. It can be thought of as a list of lists of vectors.\n",
        "\n",
        "We'll use numpy to work with vectors and matrices."
      ]
    },
    {
      "metadata": {
        "id": "J8yyIatlam0B",
        "colab_type": "code",
        "colab": {}
      },
      "cell_type": "code",
      "source": [
        "import numpy as np"
      ],
      "execution_count": 0,
      "outputs": []
    },
    {
      "metadata": {
        "id": "2va70gyxaoVd",
        "colab_type": "text"
      },
      "cell_type": "markdown",
      "source": [
        "### Operations on Vectors and Matrices\n",
        "\n",
        "#### Vector Addition\n",
        "\n",
        "\n",
        "![vector addition general](https://drive.google.com/uc?export=view&id=14C3Yh0lqYOysfoW4dEMoIHLk_chNo7sp)\n",
        "\n",
        "#### Matrix - Vector Multiplication\n",
        "\n",
        "![matrix - vector multiplication general](https://drive.google.com/uc?export=view&id=1iXT7qxE5iDX_PCsF6WSC26YScQ53H05f)\n"
      ]
    },
    {
      "metadata": {
        "id": "iOwUUe2i9_3e",
        "colab_type": "code",
        "colab": {}
      },
      "cell_type": "code",
      "source": [
        "## TODO - WRITE A FUNCTION THAT IMPLEMENTS MATRIX-VECTOR MULTIPLICATION."
      ],
      "execution_count": 0,
      "outputs": []
    },
    {
      "metadata": {
        "id": "TgsgGIxC-AHm",
        "colab_type": "text"
      },
      "cell_type": "markdown",
      "source": [
        "#### Matrix - Matrix Multiplication\n",
        "\n",
        "* You can only multiply two matrices $X$ and $Y$ if $X$ has dimensions $a$ $x$ $b$ and $Y$ has dimension $b$ $x$ $c$. The resulting matrix will have the dimensions $a$ $x$ $c$.\n",
        "* Matrix multiplication is NOT commutative - $XY$ does NOT necessarily equal $YX$!\n",
        "\n",
        "#### Dot product\n",
        "\n",
        "The **dot product**  is a value which expresses the angluar relationship between two vectors. \n",
        "\n",
        "$A$ ・$B$ = $|A|$ $|B|$ $cos(θ)$, where $θ$ is the angle between the vectors.\n",
        "\n",
        "![dot product general](https://drive.google.com/uc?id=1GyAFe0kjqGmJVi9k-ryC2CHis6Q7H_tS)\n"
      ]
    },
    {
      "metadata": {
        "id": "NAPspt_Z-QzZ",
        "colab_type": "code",
        "colab": {}
      },
      "cell_type": "code",
      "source": [
        "## TODO - IMPLEMENT A FUNCTION WHICH COMPUTES THE DOT PRODUCT OF TWO VECTORS."
      ],
      "execution_count": 0,
      "outputs": []
    },
    {
      "metadata": {
        "id": "yw7JvRjs-Q_-",
        "colab_type": "text"
      },
      "cell_type": "markdown",
      "source": [
        "#### Transpose of a matrix\n",
        "\n",
        "To **transpose** a matrix to essentially make the matrix's rows its colums, and vice versa. This will best be illustrated through an example:\n",
        "\n",
        "Say $A$ is the matrix below, and its dimensions are 2 x 4. Then the transpose of $A$, denoted as $A^T$, will have the dimensions 4 x 2. See the images below.\n",
        "\n",
        "![A original](https://drive.google.com/uc?id=1_sNVKOz3SNSgqXI0cvrdj5Mi8kV2bcs0)\n",
        "\n",
        "\n",
        "![A transposed](https://drive.google.com/uc?id=1zy6uOYkctGz3EprBHE4uuR7oItLP5kHS)\n",
        "\n",
        "\n",
        "\n",
        "\n"
      ]
    },
    {
      "metadata": {
        "id": "5VGGwbHnACHx",
        "colab_type": "code",
        "colab": {}
      },
      "cell_type": "code",
      "source": [
        "## TODO: IMPLEMENT A FUNCTION WHICH GIVES YOU THE TRANSPOSE OF THE INPUT MATRIX."
      ],
      "execution_count": 0,
      "outputs": []
    },
    {
      "metadata": {
        "id": "5e3jsfsnakIc",
        "colab_type": "text"
      },
      "cell_type": "markdown",
      "source": [
        "## Gradient descent introduction\n",
        "\n",
        "Given a function $f(x)$, how would you find the minimum value?\n",
        "\n",
        "Consider the function $f(x) = x^2$.\n",
        "\n",
        "Following this intuition, you want to move down the \"gradient\" - in the 2-D case, slope - to reach the minimum. You find the slope by taking the **derivative**.\n",
        "\n",
        "Then change x such that the function's output at the new value of x decreases:\n",
        "\n",
        "$x$<sub>$new$</sub> = $x$<sub>$old$</sub> $-$ $α \\frac{df(x)}{dt}$\n",
        "\n",
        "Similarly, the magnitude of the vector that is the gradient tells you what the slope of the hill is in that direction.\n",
        "\n",
        "Why does this work? (Note - this works for any function, not just $x^2$.)\n",
        "\n",
        "Do this until you come close to 0. See code below for an implementation of the above formula.\n",
        "\n",
        "\n",
        "\n"
      ]
    },
    {
      "metadata": {
        "id": "_KF8D6aUxL96",
        "colab_type": "code",
        "colab": {
          "base_uri": "https://localhost:8080/",
          "height": 1794
        },
        "outputId": "0c8a84f0-6b42-4111-aa50-e3ccae01abbf"
      },
      "cell_type": "code",
      "source": [
        "num_epochs = 100\n",
        "learning_rate = 0.1\n",
        "x = 100\n",
        "\n",
        "def derivativeAt(x):\n",
        "  return 2 * x\n",
        "\n",
        "for i in range(num_epochs):\n",
        "  x = x - learning_rate*##TODO: WRITE FUNCTION (WITH CORRECT INPUT INSIDE IT)\n",
        "  ## TO IMPLEMENT THE FORMULA FOR UPDATING X SHOWN ABOVE\n",
        "  print(x)"
      ],
      "execution_count": 1,
      "outputs": [
        {
          "output_type": "stream",
          "text": [
            "80.0\n",
            "64.0\n",
            "51.2\n",
            "40.96\n",
            "32.768\n",
            "26.2144\n",
            "20.97152\n",
            "16.777216000000003\n",
            "13.421772800000003\n",
            "10.737418240000002\n",
            "8.589934592000002\n",
            "6.871947673600002\n",
            "5.497558138880001\n",
            "4.398046511104001\n",
            "3.5184372088832006\n",
            "2.8147497671065604\n",
            "2.251799813685248\n",
            "1.8014398509481986\n",
            "1.4411518807585588\n",
            "1.152921504606847\n",
            "0.9223372036854777\n",
            "0.7378697629483821\n",
            "0.5902958103587057\n",
            "0.47223664828696454\n",
            "0.37778931862957166\n",
            "0.3022314549036573\n",
            "0.24178516392292587\n",
            "0.1934281311383407\n",
            "0.15474250491067257\n",
            "0.12379400392853805\n",
            "0.09903520314283044\n",
            "0.07922816251426436\n",
            "0.06338253001141149\n",
            "0.05070602400912919\n",
            "0.04056481920730336\n",
            "0.032451855365842684\n",
            "0.02596148429267415\n",
            "0.02076918743413932\n",
            "0.016615349947311456\n",
            "0.013292279957849165\n",
            "0.010633823966279331\n",
            "0.008507059173023464\n",
            "0.006805647338418772\n",
            "0.005444517870735017\n",
            "0.0043556142965880135\n",
            "0.003484491437270411\n",
            "0.0027875931498163287\n",
            "0.002230074519853063\n",
            "0.0017840596158824502\n",
            "0.0014272476927059603\n",
            "0.0011417981541647683\n",
            "0.0009134385233318147\n",
            "0.0007307508186654517\n",
            "0.0005846006549323614\n",
            "0.0004676805239458891\n",
            "0.00037414441915671127\n",
            "0.000299315535325369\n",
            "0.00023945242826029522\n",
            "0.00019156194260823618\n",
            "0.00015324955408658894\n",
            "0.00012259964326927117\n",
            "9.807971461541694e-05\n",
            "7.846377169233355e-05\n",
            "6.277101735386684e-05\n",
            "5.021681388309347e-05\n",
            "4.0173451106474776e-05\n",
            "3.213876088517982e-05\n",
            "2.5711008708143857e-05\n",
            "2.0568806966515085e-05\n",
            "1.6455045573212068e-05\n",
            "1.3164036458569655e-05\n",
            "1.0531229166855724e-05\n",
            "8.42498333348458e-06\n",
            "6.739986666787663e-06\n",
            "5.3919893334301305e-06\n",
            "4.313591466744105e-06\n",
            "3.450873173395284e-06\n",
            "2.760698538716227e-06\n",
            "2.2085588309729815e-06\n",
            "1.7668470647783852e-06\n",
            "1.413477651822708e-06\n",
            "1.1307821214581666e-06\n",
            "9.046256971665333e-07\n",
            "7.237005577332266e-07\n",
            "5.789604461865813e-07\n",
            "4.6316835694926506e-07\n",
            "3.7053468555941203e-07\n",
            "2.9642774844752964e-07\n",
            "2.371421987580237e-07\n",
            "1.8971375900641897e-07\n",
            "1.5177100720513517e-07\n",
            "1.2141680576410815e-07\n",
            "9.713344461128652e-08\n",
            "7.770675568902921e-08\n",
            "6.216540455122338e-08\n",
            "4.97323236409787e-08\n",
            "3.9785858912782964e-08\n",
            "3.182868713022637e-08\n",
            "2.5462949704181094e-08\n",
            "2.0370359763344876e-08\n"
          ],
          "name": "stdout"
        }
      ]
    },
    {
      "metadata": {
        "id": "w_iV9-rNxcV8",
        "colab_type": "text"
      },
      "cell_type": "markdown",
      "source": [
        "#### Gradient\n",
        "\n",
        "What would we do if f has more than one variable?\n",
        "\n",
        "#### Back to the slides.\n",
        "\n",
        "## ...\n",
        "\n",
        "Remember the concept of the gradient from the slides? It points in the direction of steepest ascent. Thus, the negation (flipping the sign) of the gradient will point in the direction of **steepest descent.**\n",
        "\n",
        "If you have an entirely positive function and want to find when it hits 0, then when starting at any random point you want to find the direction of steepest descent. Finding the gradient and flipping its sign will give you this direction. This is the intuition behind **gradient descent**. This concept is crucial to machine learning, so remember this for next week - we'll cover gradient descent in more depth then.\n",
        "\n",
        "**Example**\n",
        "\n",
        "Say $f(x, y) = 3x^2 + 2y^2 + x + 3y + 17$"
      ]
    },
    {
      "metadata": {
        "id": "5-qxP_-5zV-q",
        "colab_type": "code",
        "colab": {}
      },
      "cell_type": "code",
      "source": [
        "num_epochs = 100\n",
        "learning_rate = 0.1\n",
        "variables = numpy.array([220,76])\n",
        "\n",
        "def gradient(variables):\n",
        "  dfdx = 6*variables[0] + 1\n",
        "  dfdy = 4*variables[1] + 3\n",
        "  return numpy.array([dfdx, dfdy])\n",
        "\n",
        "for i in range(num_epochs):\n",
        "  variables = variables - learning_rate*##TODO: INSERT FUNCTION (W/ CORRECT INPUT)\n",
        "  ## WHICH IMPLEMENTS THE FORMULA FOR UPDATING X SHOWN ABOVE.\n",
        "  print(variables)"
      ],
      "execution_count": 0,
      "outputs": []
    },
    {
      "metadata": {
        "id": "QnAKSlSZxscc",
        "colab_type": "text"
      },
      "cell_type": "markdown",
      "source": [
        "### Tensorflow\n",
        "\n",
        "Tensorflow is an important tool that we won't be using for our coding sessions this quarter, but if we have extra time at the end of sessions we'll cover a little bit of it so you're more comfortable with it when it shows up in advanced track. \n",
        "\n",
        "Learning Tensorflow is **entirely optional!** Our beginner track coding sessions will not use any - we'll be sticking to numpy. That being said, it's an extremely helpful tool so if you're comfortable with the material being presented, we encourage you to go on and pick up some Tensorflow as well.\n",
        "\n",
        "You can find the Tensorflow notebook [here](https://github.com/uclaacmai/beginner-track-fall-18/blob/master/Workshop2/Tensorflow_intro.ipynb).\n",
        "\n"
      ]
    }
  ]
}