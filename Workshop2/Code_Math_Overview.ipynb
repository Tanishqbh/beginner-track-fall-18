{
  "nbformat": 4,
  "nbformat_minor": 0,
  "metadata": {
    "colab": {
      "name": "Code_Math_Overview.ipynb",
      "version": "0.3.2",
      "provenance": [],
      "collapsed_sections": []
    },
    "kernelspec": {
      "name": "python3",
      "display_name": "Python 3"
    }
  },
  "cells": [
    {
      "metadata": {
        "id": "TFu3FGMK4yhU",
        "colab_type": "text"
      },
      "cell_type": "markdown",
      "source": [
        "# ACM AI | Beginner Track Workshop #2: Code + Math Overview\n",
        "\n",
        "## What you'll learn\n",
        "\n",
        "### Code\n",
        "General coding constructs like loops, conditionals, functions etc. We'll also go over concepts used extensively in Machine Learning and the rest of our series: Vectors and manipulating \n",
        "Vectors through code.\n",
        "\n",
        "### Math\n",
        "Linear Algebra concepts like Matrix Multiplication, vector addition, dot products, etc. \n",
        "We'll be going over concepts from Multi Variable Calculus like gradients and partial derivatives, but we'll also give you the Single Variable Calculus equivalent.\n",
        "\n",
        "So let's get into it!\n",
        "\n",
        "## Why do we code?\n",
        "Humans are generally smarter than computers (for now), but machines can perform some types of functions quickly and repeatedly. The sheer speed of computers is what makes them indipensible. To make computers use that speed in ways we want them to, we code. \n"
      ]
    },
    {
      "metadata": {
        "id": "FYSqMRXF71Oc",
        "colab_type": "text"
      },
      "cell_type": "markdown",
      "source": [
        "### So what are some things a computer can do?"
      ]
    },
    {
      "metadata": {
        "id": "WPyw6nY776ZG",
        "colab_type": "text"
      },
      "cell_type": "markdown",
      "source": [
        " A computer can **store data**"
      ]
    },
    {
      "metadata": {
        "id": "af6332qN7qd7",
        "colab_type": "code",
        "colab": {}
      },
      "cell_type": "code",
      "source": [
        "#variables, arrays, lists"
      ],
      "execution_count": 0,
      "outputs": []
    },
    {
      "metadata": {
        "id": "EJa1yOjA8DNh",
        "colab_type": "text"
      },
      "cell_type": "markdown",
      "source": [
        "A computer can **make some decision** based on the data and some **condition**\n",
        "\n"
      ]
    },
    {
      "metadata": {
        "id": "-l3NyPJ58M8l",
        "colab_type": "code",
        "colab": {}
      },
      "cell_type": "code",
      "source": [
        "#if...else"
      ],
      "execution_count": 0,
      "outputs": []
    },
    {
      "metadata": {
        "id": "jAS7Cj3e8RFe",
        "colab_type": "text"
      },
      "cell_type": "markdown",
      "source": [
        "A computer can carry out a task **repeatedly** a large number of times"
      ]
    },
    {
      "metadata": {
        "id": "NGv9Y14K8vrR",
        "colab_type": "code",
        "colab": {}
      },
      "cell_type": "code",
      "source": [
        "#for, while"
      ],
      "execution_count": 0,
      "outputs": []
    },
    {
      "metadata": {
        "id": "dOG_Yjjx9Ctu",
        "colab_type": "text"
      },
      "cell_type": "markdown",
      "source": [
        "### Coders are lazy\n",
        "\n",
        "A program can often include thousands of lines of code. To make life easier for ouselves, we introduce concepts that make the programming process more efficient and the code easier to understand."
      ]
    },
    {
      "metadata": {
        "id": "7YCzhTAF9-na",
        "colab_type": "text"
      },
      "cell_type": "markdown",
      "source": [
        "#### Functions \n",
        "\n",
        "Oftentimes, we see the same snippet of code being used in different parts of the program. Instead of writing out this snippet every time we need it, we think of it as one whole unit, we give this unit a name, and we run this unit whenever we need to run the snippet of code. This unit is called a **function**. \n",
        "\n",
        "We give these functions intuitive names, which are often descriptive of the tast the function performs. "
      ]
    },
    {
      "metadata": {
        "id": "wppWIwdI_VPm",
        "colab_type": "code",
        "colab": {}
      },
      "cell_type": "code",
      "source": [
        "#functions"
      ],
      "execution_count": 0,
      "outputs": []
    },
    {
      "metadata": {
        "id": "Zn4BYv-A_dwx",
        "colab_type": "text"
      },
      "cell_type": "markdown",
      "source": [
        "#### Libraries/Packages\n",
        "\n",
        "To cater to coders' laziness, some coders have already written code that other coders don't want to write themselves. Such code often deals with common tasks that lots of programmers face while trying to solve problems. Such code written for use by others is wrapped up in a unit called a **Library** or a **Package**. \n",
        "\n",
        "Libraries often contain functions and even data items within them. It is convention for a library to contain functions that deal with similar problems. For example, the *numpy* Python library has functions that help with the manipulation of lists, arrays and the like. The *matplotlib* library helps in plotting graphs and mathematical functions. "
      ]
    },
    {
      "metadata": {
        "id": "f19xFKplBTYU",
        "colab_type": "code",
        "colab": {}
      },
      "cell_type": "code",
      "source": [
        "#libraries, import"
      ],
      "execution_count": 0,
      "outputs": []
    },
    {
      "metadata": {
        "id": "tNslzJ9IB822",
        "colab_type": "text"
      },
      "cell_type": "markdown",
      "source": [
        "## Let's go over some Math now\n",
        "\n",
        "### Vectors\n",
        "A Vector or n-Vector, for our purposes, is a 1-dimensional list/array of n data items of the same type. \n",
        "\n",
        "### Matrices\n",
        "A Matrix is a 2-dimensional list/array. It can be thought of as a list of lists or a list of Vectors. \n",
        "\n",
        "We'll use numpy to work with Vectors and Matrices "
      ]
    },
    {
      "metadata": {
        "id": "n1i0TowXHIlH",
        "colab_type": "code",
        "colab": {}
      },
      "cell_type": "code",
      "source": [
        "import numpy as np"
      ],
      "execution_count": 0,
      "outputs": []
    },
    {
      "metadata": {
        "id": "U3Aq3M5focKz",
        "colab_type": "code",
        "colab": {}
      },
      "cell_type": "code",
      "source": [
        ""
      ],
      "execution_count": 0,
      "outputs": []
    },
    {
      "metadata": {
        "id": "BNPkjn5_HMew",
        "colab_type": "text"
      },
      "cell_type": "markdown",
      "source": [
        "### Operations on Vectors and Matrices"
      ]
    },
    {
      "metadata": {
        "id": "nMTws4z3K31K",
        "colab_type": "text"
      },
      "cell_type": "markdown",
      "source": [
        "#### Vector addition"
      ]
    },
    {
      "metadata": {
        "id": "3OozovKmudxs",
        "colab_type": "text"
      },
      "cell_type": "markdown",
      "source": [
        "![](https://drive.google.com/uc?export=view&id=14C3Yh0lqYOysfoW4dEMoIHLk_chNo7sp)\n"
      ]
    },
    {
      "metadata": {
        "id": "yz1oGkbkLCft",
        "colab_type": "code",
        "colab": {}
      },
      "cell_type": "code",
      "source": [
        ""
      ],
      "execution_count": 0,
      "outputs": []
    },
    {
      "metadata": {
        "id": "pvgp0Abdn_ki",
        "colab_type": "code",
        "colab": {}
      },
      "cell_type": "code",
      "source": [
        ""
      ],
      "execution_count": 0,
      "outputs": []
    },
    {
      "metadata": {
        "id": "jIag6gnCK9ma",
        "colab_type": "text"
      },
      "cell_type": "markdown",
      "source": [
        "#### Matrix - Vector Multiplication\n",
        "![](https://drive.google.com/uc?export=view&id=1iXT7qxE5iDX_PCsF6WSC26YScQ53H05f)"
      ]
    },
    {
      "metadata": {
        "id": "41fZUIkRLEV6",
        "colab_type": "code",
        "colab": {}
      },
      "cell_type": "code",
      "source": [
        "#matrix vector multiplication"
      ],
      "execution_count": 0,
      "outputs": []
    },
    {
      "metadata": {
        "id": "Ge_w-4N9LAuD",
        "colab_type": "text"
      },
      "cell_type": "markdown",
      "source": [
        "#### Matrix - Matrix Multiplication\n",
        "Perform Matrix-Vector multiplication, but for multiple vectors"
      ]
    },
    {
      "metadata": {
        "id": "hnjJkDLRLFyd",
        "colab_type": "code",
        "colab": {}
      },
      "cell_type": "code",
      "source": [
        "#matrix matrix multiplication"
      ],
      "execution_count": 0,
      "outputs": []
    },
    {
      "metadata": {
        "id": "KlPb5KYVGyC0",
        "colab_type": "text"
      },
      "cell_type": "markdown",
      "source": [
        "#### Dot Product\n",
        "TODO: insert equation"
      ]
    },
    {
      "metadata": {
        "id": "melfUGyDHEBh",
        "colab_type": "code",
        "colab": {}
      },
      "cell_type": "code",
      "source": [
        "#dot"
      ],
      "execution_count": 0,
      "outputs": []
    },
    {
      "metadata": {
        "id": "xcatgd5tHFNw",
        "colab_type": "text"
      },
      "cell_type": "markdown",
      "source": [
        "#### Transpose of a matrix/vector\n",
        "TODO: insert equations"
      ]
    },
    {
      "metadata": {
        "id": "aaZFlv7WH0oO",
        "colab_type": "code",
        "colab": {}
      },
      "cell_type": "code",
      "source": [
        "#transpose"
      ],
      "execution_count": 0,
      "outputs": []
    },
    {
      "metadata": {
        "id": "aIMDOYoDH3lY",
        "colab_type": "text"
      },
      "cell_type": "markdown",
      "source": [
        "### Calculus concepts\n",
        "\n",
        "#### Given a function $f(x)$, find minimum \n",
        "\n",
        "Let's consider $f(x) = x^2$\n",
        "\n",
        "Move down slope to reach minimum\n",
        "\n",
        "How would you find slope?\n",
        "\n",
        "Take derivative\n",
        "\n",
        "Change x such that function decreases:\n",
        "\n",
        "$x_{new} = x_{old} - \\alpha \\frac{df(x)}{dt}$\n",
        "\n",
        "Why does this work? (Note: This works for any function, not just $x^2$)\n",
        "\n",
        "Do this until you come close to 0\n",
        "\n"
      ]
    },
    {
      "metadata": {
        "id": "n6ddgU5sUw7X",
        "colab_type": "code",
        "colab": {
          "base_uri": "https://localhost:8080/",
          "height": 1751
        },
        "outputId": "f5887132-61a7-4016-b78e-824a1d65488e"
      },
      "cell_type": "code",
      "source": [
        "num_epochs = 100\n",
        "learning_rate = 0.1\n",
        "x = 100\n",
        "\n",
        "def derivativeAt(x):\n",
        "  return 2 * x\n",
        "\n",
        "for i in range(num_epochs):\n",
        "  x = x - learning_rate*derivativeAt(x)\n",
        "  print(x)"
      ],
      "execution_count": 6,
      "outputs": [
        {
          "output_type": "stream",
          "text": [
            "80.0\n",
            "64.0\n",
            "51.2\n",
            "40.96\n",
            "32.768\n",
            "26.2144\n",
            "20.97152\n",
            "16.777216000000003\n",
            "13.421772800000003\n",
            "10.737418240000002\n",
            "8.589934592000002\n",
            "6.871947673600002\n",
            "5.497558138880001\n",
            "4.398046511104001\n",
            "3.5184372088832006\n",
            "2.8147497671065604\n",
            "2.251799813685248\n",
            "1.8014398509481986\n",
            "1.4411518807585588\n",
            "1.152921504606847\n",
            "0.9223372036854777\n",
            "0.7378697629483821\n",
            "0.5902958103587057\n",
            "0.47223664828696454\n",
            "0.37778931862957166\n",
            "0.3022314549036573\n",
            "0.24178516392292587\n",
            "0.1934281311383407\n",
            "0.15474250491067257\n",
            "0.12379400392853805\n",
            "0.09903520314283044\n",
            "0.07922816251426436\n",
            "0.06338253001141149\n",
            "0.05070602400912919\n",
            "0.04056481920730336\n",
            "0.032451855365842684\n",
            "0.02596148429267415\n",
            "0.02076918743413932\n",
            "0.016615349947311456\n",
            "0.013292279957849165\n",
            "0.010633823966279331\n",
            "0.008507059173023464\n",
            "0.006805647338418772\n",
            "0.005444517870735017\n",
            "0.0043556142965880135\n",
            "0.003484491437270411\n",
            "0.0027875931498163287\n",
            "0.002230074519853063\n",
            "0.0017840596158824502\n",
            "0.0014272476927059603\n",
            "0.0011417981541647683\n",
            "0.0009134385233318147\n",
            "0.0007307508186654517\n",
            "0.0005846006549323614\n",
            "0.0004676805239458891\n",
            "0.00037414441915671127\n",
            "0.000299315535325369\n",
            "0.00023945242826029522\n",
            "0.00019156194260823618\n",
            "0.00015324955408658894\n",
            "0.00012259964326927117\n",
            "9.807971461541694e-05\n",
            "7.846377169233355e-05\n",
            "6.277101735386684e-05\n",
            "5.021681388309347e-05\n",
            "4.0173451106474776e-05\n",
            "3.213876088517982e-05\n",
            "2.5711008708143857e-05\n",
            "2.0568806966515085e-05\n",
            "1.6455045573212068e-05\n",
            "1.3164036458569655e-05\n",
            "1.0531229166855724e-05\n",
            "8.42498333348458e-06\n",
            "6.739986666787663e-06\n",
            "5.3919893334301305e-06\n",
            "4.313591466744105e-06\n",
            "3.450873173395284e-06\n",
            "2.760698538716227e-06\n",
            "2.2085588309729815e-06\n",
            "1.7668470647783852e-06\n",
            "1.413477651822708e-06\n",
            "1.1307821214581666e-06\n",
            "9.046256971665333e-07\n",
            "7.237005577332266e-07\n",
            "5.789604461865813e-07\n",
            "4.6316835694926506e-07\n",
            "3.7053468555941203e-07\n",
            "2.9642774844752964e-07\n",
            "2.371421987580237e-07\n",
            "1.8971375900641897e-07\n",
            "1.5177100720513517e-07\n",
            "1.2141680576410815e-07\n",
            "9.713344461128652e-08\n",
            "7.770675568902921e-08\n",
            "6.216540455122338e-08\n",
            "4.97323236409787e-08\n",
            "3.9785858912782964e-08\n",
            "3.182868713022637e-08\n",
            "2.5462949704181094e-08\n",
            "2.0370359763344876e-08\n"
          ],
          "name": "stdout"
        }
      ]
    },
    {
      "metadata": {
        "id": "ho-VuL6kVZpa",
        "colab_type": "text"
      },
      "cell_type": "markdown",
      "source": [
        "#### Gradient\n",
        "\n",
        "What would we do if $f(x_1, x_2, ... ,x_n )$ ?\n",
        "\n",
        "Take partial derivative with respect to each variable. \n",
        "\n",
        "What is partial derivative?\n",
        "\n",
        "Once find partial derivative, do the same as above for each variable. \n",
        "\n",
        "Can do for all variables at once using vectors. Call this vector Gradient\n",
        "\n",
        "Say $f(x,y) = 3x^2 + 2y^2 + x + 3y + 17$\n"
      ]
    },
    {
      "metadata": {
        "id": "OAMWqEk4V8jm",
        "colab_type": "code",
        "colab": {
          "base_uri": "https://localhost:8080/",
          "height": 1751
        },
        "outputId": "f2e1925e-bd07-401f-ca76-419ab22178b9"
      },
      "cell_type": "code",
      "source": [
        "num_epochs = 100\n",
        "learning_rate = 0.1\n",
        "variables = numpy.array([220,76])\n",
        "\n",
        "def gradient(variables):\n",
        "  dfdx = 6*variables[0] + 1\n",
        "  dfdy = 4*variables[1] + 3\n",
        "  return numpy.array([dfdx, dfdy])\n",
        "\n",
        "for i in range(num_epochs):\n",
        "  variables = variables - learning_rate*gradient(variables)\n",
        "  print(variables)\n"
      ],
      "execution_count": 8,
      "outputs": [
        {
          "output_type": "stream",
          "text": [
            "[87.9 45.3]\n",
            "[35.06 26.88]\n",
            "[13.924 15.828]\n",
            "[5.4696 9.1968]\n",
            "[2.08784 5.21808]\n",
            "[0.735136 2.830848]\n",
            "[0.1940544 1.3985088]\n",
            "[-0.02237824  0.53910528]\n",
            "[-0.1089513   0.02346317]\n",
            "[-0.14358052 -0.2859221 ]\n",
            "[-0.15743221 -0.47155326]\n",
            "[-0.16297288 -0.58293196]\n",
            "[-0.16518915 -0.64975917]\n",
            "[-0.16607566 -0.6898555 ]\n",
            "[-0.16643026 -0.7139133 ]\n",
            "[-0.16657211 -0.72834798]\n",
            "[-0.16662884 -0.73700879]\n",
            "[-0.16665154 -0.74220527]\n",
            "[-0.16666061 -0.74532316]\n",
            "[-0.16666425 -0.7471939 ]\n",
            "[-0.1666657  -0.74831634]\n",
            "[-0.16666628 -0.7489898 ]\n",
            "[-0.16666651 -0.74939388]\n",
            "[-0.1666666  -0.74963633]\n",
            "[-0.16666664 -0.7497818 ]\n",
            "[-0.16666666 -0.74986908]\n",
            "[-0.16666666 -0.74992145]\n",
            "[-0.16666667 -0.74995287]\n",
            "[-0.16666667 -0.74997172]\n",
            "[-0.16666667 -0.74998303]\n",
            "[-0.16666667 -0.74998982]\n",
            "[-0.16666667 -0.74999389]\n",
            "[-0.16666667 -0.74999634]\n",
            "[-0.16666667 -0.7499978 ]\n",
            "[-0.16666667 -0.74999868]\n",
            "[-0.16666667 -0.74999921]\n",
            "[-0.16666667 -0.74999953]\n",
            "[-0.16666667 -0.74999972]\n",
            "[-0.16666667 -0.74999983]\n",
            "[-0.16666667 -0.7499999 ]\n",
            "[-0.16666667 -0.74999994]\n",
            "[-0.16666667 -0.74999996]\n",
            "[-0.16666667 -0.74999998]\n",
            "[-0.16666667 -0.74999999]\n",
            "[-0.16666667 -0.74999999]\n",
            "[-0.16666667 -0.75      ]\n",
            "[-0.16666667 -0.75      ]\n",
            "[-0.16666667 -0.75      ]\n",
            "[-0.16666667 -0.75      ]\n",
            "[-0.16666667 -0.75      ]\n",
            "[-0.16666667 -0.75      ]\n",
            "[-0.16666667 -0.75      ]\n",
            "[-0.16666667 -0.75      ]\n",
            "[-0.16666667 -0.75      ]\n",
            "[-0.16666667 -0.75      ]\n",
            "[-0.16666667 -0.75      ]\n",
            "[-0.16666667 -0.75      ]\n",
            "[-0.16666667 -0.75      ]\n",
            "[-0.16666667 -0.75      ]\n",
            "[-0.16666667 -0.75      ]\n",
            "[-0.16666667 -0.75      ]\n",
            "[-0.16666667 -0.75      ]\n",
            "[-0.16666667 -0.75      ]\n",
            "[-0.16666667 -0.75      ]\n",
            "[-0.16666667 -0.75      ]\n",
            "[-0.16666667 -0.75      ]\n",
            "[-0.16666667 -0.75      ]\n",
            "[-0.16666667 -0.75      ]\n",
            "[-0.16666667 -0.75      ]\n",
            "[-0.16666667 -0.75      ]\n",
            "[-0.16666667 -0.75      ]\n",
            "[-0.16666667 -0.75      ]\n",
            "[-0.16666667 -0.75      ]\n",
            "[-0.16666667 -0.75      ]\n",
            "[-0.16666667 -0.75      ]\n",
            "[-0.16666667 -0.75      ]\n",
            "[-0.16666667 -0.75      ]\n",
            "[-0.16666667 -0.75      ]\n",
            "[-0.16666667 -0.75      ]\n",
            "[-0.16666667 -0.75      ]\n",
            "[-0.16666667 -0.75      ]\n",
            "[-0.16666667 -0.75      ]\n",
            "[-0.16666667 -0.75      ]\n",
            "[-0.16666667 -0.75      ]\n",
            "[-0.16666667 -0.75      ]\n",
            "[-0.16666667 -0.75      ]\n",
            "[-0.16666667 -0.75      ]\n",
            "[-0.16666667 -0.75      ]\n",
            "[-0.16666667 -0.75      ]\n",
            "[-0.16666667 -0.75      ]\n",
            "[-0.16666667 -0.75      ]\n",
            "[-0.16666667 -0.75      ]\n",
            "[-0.16666667 -0.75      ]\n",
            "[-0.16666667 -0.75      ]\n",
            "[-0.16666667 -0.75      ]\n",
            "[-0.16666667 -0.75      ]\n",
            "[-0.16666667 -0.75      ]\n",
            "[-0.16666667 -0.75      ]\n",
            "[-0.16666667 -0.75      ]\n",
            "[-0.16666667 -0.75      ]\n"
          ],
          "name": "stdout"
        }
      ]
    },
    {
      "metadata": {
        "id": "A6xLIJt_ryow",
        "colab_type": "code",
        "colab": {}
      },
      "cell_type": "code",
      "source": [
        ""
      ],
      "execution_count": 0,
      "outputs": []
    }
  ]
}