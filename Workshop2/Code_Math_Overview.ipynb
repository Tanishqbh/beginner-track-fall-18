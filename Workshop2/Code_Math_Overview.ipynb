{
  "nbformat": 4,
  "nbformat_minor": 0,
  "metadata": {
    "colab": {
      "name": "Code_Math_Overview.ipynb",
      "version": "0.3.2",
      "provenance": [],
      "collapsed_sections": []
    },
    "kernelspec": {
      "name": "python3",
      "display_name": "Python 3"
    }
  },
  "cells": [
    {
      "metadata": {
        "id": "TFu3FGMK4yhU",
        "colab_type": "text"
      },
      "cell_type": "markdown",
      "source": [
        "# ACM AI | Beginner Track Workshop #2: Code + Math Overview\n",
        "\n",
        "## What you'll learn\n",
        "\n",
        "### Code\n",
        "General coding constructs like loops, conditionals, functions etc. We'll also go over concepts used extensively in Machine Learning and the rest of our series: Vectors and manipulating \n",
        "Vectors through code.\n",
        "\n",
        "### Math\n",
        "Linear Algebra concepts like Matrix Multiplication, vector addition, dot products, etc. \n",
        "We'll be going over concepts from Multi Variable Calculus like gradients and partial derivatives, but we'll also give you the Single Variable Calculus equivalent.\n",
        "\n",
        "So let's get into it!\n",
        "\n",
        "## Why do we code?\n",
        "Humans are generally smarter than computers (for now), but machines can perform some types of functions quickly and repeatedly. The sheer speed of computers is what makes them indipensible. To make computers use that speed in ways we want them to, we code. \n"
      ]
    },
    {
      "metadata": {
        "id": "FYSqMRXF71Oc",
        "colab_type": "text"
      },
      "cell_type": "markdown",
      "source": [
        "### So what are some things a computer can do?"
      ]
    },
    {
      "metadata": {
        "id": "WPyw6nY776ZG",
        "colab_type": "text"
      },
      "cell_type": "markdown",
      "source": [
        " A computer can **store data**"
      ]
    },
    {
      "metadata": {
        "id": "af6332qN7qd7",
        "colab_type": "code",
        "colab": {}
      },
      "cell_type": "code",
      "source": [
        "#variables, arrays, lists"
      ],
      "execution_count": 0,
      "outputs": []
    },
    {
      "metadata": {
        "id": "EJa1yOjA8DNh",
        "colab_type": "text"
      },
      "cell_type": "markdown",
      "source": [
        "A computer can **make some decision** based on the data and some **condition**\n",
        "\n"
      ]
    },
    {
      "metadata": {
        "id": "-l3NyPJ58M8l",
        "colab_type": "code",
        "colab": {}
      },
      "cell_type": "code",
      "source": [
        "#if...else"
      ],
      "execution_count": 0,
      "outputs": []
    },
    {
      "metadata": {
        "id": "jAS7Cj3e8RFe",
        "colab_type": "text"
      },
      "cell_type": "markdown",
      "source": [
        "A computer can carry out a task **repeatedly** a large number of times"
      ]
    },
    {
      "metadata": {
        "id": "NGv9Y14K8vrR",
        "colab_type": "code",
        "colab": {}
      },
      "cell_type": "code",
      "source": [
        "#for, while"
      ],
      "execution_count": 0,
      "outputs": []
    },
    {
      "metadata": {
        "id": "dOG_Yjjx9Ctu",
        "colab_type": "text"
      },
      "cell_type": "markdown",
      "source": [
        "### Coders are lazy\n",
        "\n",
        "A program can often include thousands of lines of code. To make life easier for ouselves, we introduce concepts that make the programming process more efficient and the code easier to understand."
      ]
    },
    {
      "metadata": {
        "id": "7YCzhTAF9-na",
        "colab_type": "text"
      },
      "cell_type": "markdown",
      "source": [
        "#### Functions \n",
        "\n",
        "Oftentimes, we see the same snippet of code being used in different parts of the program. Instead of writing out this snippet every time we need it, we think of it as one whole unit, we give this unit a name, and we run this unit whenever we need to run the snippet of code. This unit is called a **function**. \n",
        "\n",
        "We give these functions intuitive names, which are often descriptive of the tast the function performs. "
      ]
    },
    {
      "metadata": {
        "id": "wppWIwdI_VPm",
        "colab_type": "code",
        "colab": {}
      },
      "cell_type": "code",
      "source": [
        "#functions"
      ],
      "execution_count": 0,
      "outputs": []
    },
    {
      "metadata": {
        "id": "Zn4BYv-A_dwx",
        "colab_type": "text"
      },
      "cell_type": "markdown",
      "source": [
        "#### Libraries/Packages\n",
        "\n",
        "To cater to coders' laziness, some coders have already written code that other coders don't want to write themselves. Such code often deals with common tasks that lots of programmers face while trying to solve problems. Such code written for use by others is wrapped up in a unit called a **Library** or a **Package**. \n",
        "\n",
        "Libraries often contain functions and even data items within them. It is convention for a library to contain functions that deal with similar problems. For example, the *numpy* Python library has functions that help with the manipulation of lists, arrays and the like. The *matplotlib* library helps in plotting graphs and mathematical functions. "
      ]
    },
    {
      "metadata": {
        "id": "f19xFKplBTYU",
        "colab_type": "code",
        "colab": {}
      },
      "cell_type": "code",
      "source": [
        "#libraries, import"
      ],
      "execution_count": 0,
      "outputs": []
    },
    {
      "metadata": {
        "id": "tNslzJ9IB822",
        "colab_type": "text"
      },
      "cell_type": "markdown",
      "source": [
        "## Let's go over some Math now\n",
        "\n",
        "### Vectors\n",
        "A Vector or n-Vector, for our purposes, is a 1-dimensional list/array of n data items of the same type. \n",
        "\n",
        "### Matrices\n",
        "A Matrix is a 2-dimensional list/array. It can be thought of as a list of lists or a list of Vectors. \n",
        "\n",
        "We'll use numpy to work with Vectors and Matrices "
      ]
    },
    {
      "metadata": {
        "id": "n1i0TowXHIlH",
        "colab_type": "code",
        "colab": {}
      },
      "cell_type": "code",
      "source": [
        "# vectors, matrices, print"
      ],
      "execution_count": 0,
      "outputs": []
    },
    {
      "metadata": {
        "id": "BNPkjn5_HMew",
        "colab_type": "text"
      },
      "cell_type": "markdown",
      "source": [
        "### Operations on Vectors and Matrices"
      ]
    },
    {
      "metadata": {
        "id": "nMTws4z3K31K",
        "colab_type": "text"
      },
      "cell_type": "markdown",
      "source": [
        "#### Vector addition"
      ]
    },
    {
      "metadata": {
        "id": "3OozovKmudxs",
        "colab_type": "text"
      },
      "cell_type": "markdown",
      "source": [
        "![](https://drive.google.com/uc?export=view&id=14C3Yh0lqYOysfoW4dEMoIHLk_chNo7sp)\n"
      ]
    },
    {
      "metadata": {
        "id": "yz1oGkbkLCft",
        "colab_type": "code",
        "colab": {}
      },
      "cell_type": "code",
      "source": [
        "#vector addition"
      ],
      "execution_count": 0,
      "outputs": []
    },
    {
      "metadata": {
        "id": "jIag6gnCK9ma",
        "colab_type": "text"
      },
      "cell_type": "markdown",
      "source": [
        "#### Matrix - Vector Multiplication\n",
        "![](https://drive.google.com/uc?export=view&id=1iXT7qxE5iDX_PCsF6WSC26YScQ53H05f)"
      ]
    },
    {
      "metadata": {
        "id": "41fZUIkRLEV6",
        "colab_type": "code",
        "colab": {}
      },
      "cell_type": "code",
      "source": [
        "#matrix vector multiplication"
      ],
      "execution_count": 0,
      "outputs": []
    },
    {
      "metadata": {
        "id": "Ge_w-4N9LAuD",
        "colab_type": "text"
      },
      "cell_type": "markdown",
      "source": [
        "#### Matrix - Matrix Multiplication\n",
        "Perform Matrix-Vector multiplication, but for multiple vectors"
      ]
    },
    {
      "metadata": {
        "id": "hnjJkDLRLFyd",
        "colab_type": "code",
        "colab": {}
      },
      "cell_type": "code",
      "source": [
        "#matrix matrix multiplication"
      ],
      "execution_count": 0,
      "outputs": []
    },
    {
      "metadata": {
        "id": "KlPb5KYVGyC0",
        "colab_type": "text"
      },
      "cell_type": "markdown",
      "source": [
        "#### Dot Product\n",
        "TODO: insert equation"
      ]
    },
    {
      "metadata": {
        "id": "melfUGyDHEBh",
        "colab_type": "code",
        "colab": {}
      },
      "cell_type": "code",
      "source": [
        "#dot"
      ],
      "execution_count": 0,
      "outputs": []
    },
    {
      "metadata": {
        "id": "xcatgd5tHFNw",
        "colab_type": "text"
      },
      "cell_type": "markdown",
      "source": [
        "#### Transpose of a matrix/vector\n",
        "TODO: insert equations"
      ]
    },
    {
      "metadata": {
        "id": "aaZFlv7WH0oO",
        "colab_type": "code",
        "colab": {}
      },
      "cell_type": "code",
      "source": [
        "#transpose"
      ],
      "execution_count": 0,
      "outputs": []
    },
    {
      "metadata": {
        "id": "aIMDOYoDH3lY",
        "colab_type": "text"
      },
      "cell_type": "markdown",
      "source": [
        "### Calculus concepts\n",
        "\n",
        "#### Given a function $f(x)$, find minimum \n",
        "\n",
        "Let's consider $f(x) = x^2$\n",
        "\n",
        "Move down slope to reach minimum\n",
        "\n",
        "How would you find slope?\n",
        "\n",
        "Take derivative\n",
        "\n",
        "Change x such that function decreases:\n",
        "\n",
        "$x_{new} = x_{old} - \\alpha \\frac{df(x)}{dt}$\n",
        "\n",
        "Why does this work? (Note: This works for any function, not just $x^2$)\n",
        "\n",
        "Do this until you come close to 0\n",
        "\n"
      ]
    },
    {
      "metadata": {
        "id": "n6ddgU5sUw7X",
        "colab_type": "code",
        "colab": {}
      },
      "cell_type": "code",
      "source": [
        "#find min of x^2"
      ],
      "execution_count": 0,
      "outputs": []
    },
    {
      "metadata": {
        "id": "ho-VuL6kVZpa",
        "colab_type": "text"
      },
      "cell_type": "markdown",
      "source": [
        "#### Gradient\n",
        "\n",
        "What would we do if $f(x_1, x_2, ... ,x_n )$ ?\n",
        "\n",
        "Take partial derivative with respect to each variable. \n",
        "\n",
        "What is partial derivative?\n",
        "\n",
        "Once find partial derivative, do the same as above for each variable. \n",
        "\n",
        "Can do for all variables at once using vectors. Call this vector Gradient\n"
      ]
    },
    {
      "metadata": {
        "id": "OAMWqEk4V8jm",
        "colab_type": "code",
        "colab": {}
      },
      "cell_type": "code",
      "source": [
        "#Find gradient"
      ],
      "execution_count": 0,
      "outputs": []
    }
  ]
}