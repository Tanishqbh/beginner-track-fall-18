{
  "nbformat": 4,
  "nbformat_minor": 0,
  "metadata": {
    "colab": {
      "name": "Tensorflow_intro.ipynb",
      "version": "0.3.2",
      "provenance": [],
      "collapsed_sections": []
    },
    "kernelspec": {
      "name": "python3",
      "display_name": "Python 3"
    }
  },
  "cells": [
    {
      "metadata": {
        "id": "5C6e3U6tbaJj",
        "colab_type": "text"
      },
      "cell_type": "markdown",
      "source": [
        "# ACM AI | Beginner Track Bonus Material: Intro to Tensorflow\n",
        "Tensorflow is the framework of choice for many in the Machine Learning field. This intro should help you get started with using Tensorflow."
      ]
    },
    {
      "metadata": {
        "id": "xw51RXzJb8Db",
        "colab_type": "text"
      },
      "cell_type": "markdown",
      "source": [
        "## What is a tensor?\n",
        "\n",
        "A tensor is an n-dimensional array. \n",
        "\n",
        "t1 = [1,2,3,4,5] is a 1-dimesional array,\n",
        "\n",
        "t2 = [\n",
        "[1,2,3,12],\n",
        "[4,5,6,45],\n",
        "[7,8,9,78]\n",
        "] is a 2-dimensional array, ... etc.\n",
        "\n",
        "### Rank of a tensor\n",
        "A tensor's rank is the **number of dimensions** the tensor has. It is basically ***n***, in the above definition\n",
        "\n",
        "### Shape of a tensor\n",
        "The shape of a tensor is a **list specifying the number of items in each dimension**. In the above example, the shape of t1 is [5], while the shape of t2 is [3,4]. \n",
        "\n",
        "How is the size of the shape (yup, that makes sense) related to the rank?"
      ]
    },
    {
      "metadata": {
        "id": "YAlf3u1SvdK3",
        "colab_type": "text"
      },
      "cell_type": "markdown",
      "source": [
        "## How Tensorflow works\n",
        "\n",
        "Tensorflow uses a dataflow graph to represet a program. Every **edge** in the graph is a **Tensor**, every **node** is an **Operation**, and the Tensors \"**flow**\" from one Operation to the next. \n",
        "\n",
        "![](https://www.tensorflow.org/images/tensors_flowing.gif)"
      ]
    },
    {
      "metadata": {
        "id": "nFYdK8P8BC7S",
        "colab_type": "text"
      },
      "cell_type": "markdown",
      "source": [
        "When you're writing a Tensorflow program, you're building this graph. But the Tensors in the graph (the edges) do not store the actual results of the Operations. The Tensors are just **handles**, telling the graph that a result is expected there. To actually get some actual results, you need to create a **Session** and **run** it. "
      ]
    },
    {
      "metadata": {
        "id": "WJB0e_hgCEFo",
        "colab_type": "text"
      },
      "cell_type": "markdown",
      "source": [
        "Let's get started"
      ]
    },
    {
      "metadata": {
        "id": "s3vH8wfRCJtH",
        "colab_type": "code",
        "colab": {}
      },
      "cell_type": "code",
      "source": [
        "import tensorflow as tf\n",
        "import numpy"
      ],
      "execution_count": 0,
      "outputs": []
    },
    {
      "metadata": {
        "id": "HsCSEyzvCR3Q",
        "colab_type": "code",
        "colab": {
          "base_uri": "https://localhost:8080/",
          "height": 35
        },
        "outputId": "a73b855b-fafb-42f8-c648-629a60896193"
      },
      "cell_type": "code",
      "source": [
        "#Let's define some constants.\n",
        "c1 = tf.constant(3, dtype=tf.int32, shape = ()) # creates a tf.Operation that always produces the value 3. Returns a Tensor\n",
        "c2 = tf.constant(14, dtype=tf.int32, shape = ()) # you can also create arrays by changing the shape parameter\n",
        "\n",
        "#Let's multiply them\n",
        "mult = tf.multiply(c1,c2) # c1 * c2 also works, * is overloaded\n",
        "\n",
        "#Create a session\n",
        "with tf.Session() as sess:\n",
        "  print(sess.run(mult)) #To get the value of a Tensor or Operation, pass it into sess.run()"
      ],
      "execution_count": 31,
      "outputs": [
        {
          "output_type": "stream",
          "text": [
            "42\n"
          ],
          "name": "stdout"
        }
      ]
    },
    {
      "metadata": {
        "id": "BYq_LcpPEf_J",
        "colab_type": "text"
      },
      "cell_type": "markdown",
      "source": [
        "What if we don't know what values some input is going to take while writing the program.\n",
        "\n",
        "We can create a **Placeholder**"
      ]
    },
    {
      "metadata": {
        "id": "FdvRQbrrDMdw",
        "colab_type": "code",
        "colab": {}
      },
      "cell_type": "code",
      "source": [
        "p1 = tf.placeholder(tf.int32, shape=(2,3))\n",
        "p2 = tf.placeholder(tf.int32, shape=(2,3))\n",
        "\n",
        "add = p1 + p2 #why did we not have to use tf.add()? (Hint: overloading)\n",
        "\n",
        "arr1 = numpy.ndarray((2,3))\n",
        "arr2 = numpy.ndarray((2,3))\n",
        "arr3 = numpy.ndarray((2,3))\n",
        "\n",
        "#creating some arbitrary arrays\n",
        "for i in range(2):\n",
        "  for j in range(3):\n",
        "    arr1[i,j] = i + j\n",
        "    arr2[i,j] = i * j\n",
        "    arr3[i,j] = i ** j"
      ],
      "execution_count": 0,
      "outputs": []
    },
    {
      "metadata": {
        "id": "FiCip_ToIXOF",
        "colab_type": "code",
        "colab": {
          "base_uri": "https://localhost:8080/",
          "height": 52
        },
        "outputId": "7f4187dc-57fc-4411-fc3c-acd754697302"
      },
      "cell_type": "code",
      "source": [
        "with tf.Session() as sess:\n",
        "  print(sess.run(add, feed_dict={p1:arr1, p2:arr2})) # need to specify the value for the placeholders while running"
      ],
      "execution_count": 33,
      "outputs": [
        {
          "output_type": "stream",
          "text": [
            "[[0 1 2]\n",
            " [1 3 5]]\n"
          ],
          "name": "stdout"
        }
      ]
    },
    {
      "metadata": {
        "id": "6A1fIzk8HOfs",
        "colab_type": "code",
        "colab": {
          "base_uri": "https://localhost:8080/",
          "height": 52
        },
        "outputId": "c0c771b7-8e74-4316-89e1-ec979043b4b7"
      },
      "cell_type": "code",
      "source": [
        "with tf.Session() as sess:\n",
        "  print(sess.run(add, feed_dict={p1:arr1, p2:arr3})) # with different p2"
      ],
      "execution_count": 34,
      "outputs": [
        {
          "output_type": "stream",
          "text": [
            "[[1 1 2]\n",
            " [2 3 4]]\n"
          ],
          "name": "stdout"
        }
      ]
    },
    {
      "metadata": {
        "id": "T5u9eUWAIvrW",
        "colab_type": "text"
      },
      "cell_type": "markdown",
      "source": [
        "Now what if we want to store data that is maintained across multiple run()s? We use **Variables**\n",
        "\n",
        "Why would we need to maintain such data? "
      ]
    },
    {
      "metadata": {
        "id": "ZPwGmAcYHmxK",
        "colab_type": "code",
        "colab": {}
      },
      "cell_type": "code",
      "source": [
        "var1 = tf.Variable([0,0,0]) # shape and data type of variable is determined by the initial value provided as argument\n",
        "\n",
        "toAdd = tf.constant([1,1,1], dtype=tf.int32)\n",
        "\n",
        "assign_op = tf.assign(var1, var1 + toAdd)\n",
        "\n",
        "init_ = tf.global_variables_initializer() #before a variable can be used for the first time, it must be initialized"
      ],
      "execution_count": 0,
      "outputs": []
    },
    {
      "metadata": {
        "id": "XVCaRu-AL2Oz",
        "colab_type": "code",
        "colab": {
          "base_uri": "https://localhost:8080/",
          "height": 104
        },
        "outputId": "bba78d83-e4a3-4064-ebea-50634a62ee0b"
      },
      "cell_type": "code",
      "source": [
        "with tf.Session() as sess:\n",
        "  sess.run(init_)\n",
        "  for i in range(5):\n",
        "    print(sess.run(assign_op))\n",
        "    \n",
        "#We see that the value of var1 persists across the multiple runs: it doesn't start off from [0,0,0] every time\n",
        "#WARNING: We've used tf.assign() here, but it is slightly more complicated than it seems. \n",
        "#Things start getting weird when other operations depend on var1. You might expect the assign_op to run before, but it ends up not running\n",
        "#We probably won't be using tf.assign() for anything other than explanatory purposes\n",
        "#Come up and talk to us later if you're curious about this"
      ],
      "execution_count": 36,
      "outputs": [
        {
          "output_type": "stream",
          "text": [
            "[1 1 1]\n",
            "[2 2 2]\n",
            "[3 3 3]\n",
            "[4 4 4]\n",
            "[5 5 5]\n"
          ],
          "name": "stdout"
        }
      ]
    },
    {
      "metadata": {
        "id": "ZreLMxC4MDNY",
        "colab_type": "text"
      },
      "cell_type": "markdown",
      "source": [
        "So let's try finding the minimum of a function using Tensorflow. \n",
        "Tensorflow provides some nice tools called **Optimizers** that can do just this. \n",
        "\n",
        "Let's see how this is done"
      ]
    },
    {
      "metadata": {
        "id": "iGDZZAxZL9lu",
        "colab_type": "code",
        "colab": {}
      },
      "cell_type": "code",
      "source": [
        "tf.reset_default_graph()    #Let's clean up our graph\n",
        "\n",
        "#get_variable is another way (the one we'd recommend) for defining variables in Tensorflow\n",
        "#While using this you are forced to give the variable a name\n",
        "#Keeping track of variables, thus, becomes easier, and a lot more functionality is added\n",
        "#WARNING: You can't use get_variable to create two variables of the same name. \n",
        "#Things, again, get complicated because of the way Tensorflow works\n",
        "#You'll have to know about collections, etc., so come talk to us to know more\n",
        "\n",
        "\n",
        "x = tf.get_variable(\"indep_var\", dtype=tf.float32, initializer=tf.constant(100.0)) #try changing the inital value of the variable to see what happens\n",
        "\n",
        "f = tf.multiply(x,x)\n",
        "\n",
        "#This is one sort of Optimizer: Gradient Descet Optimizer\n",
        "grad = tf.train.GradientDescentOptimizer(learning_rate = 0.1) #what happens if we use learning_rate = 1? Why?\n",
        "\n",
        "#We want to minimize f\n",
        "trainer = grad.minimize(f)\n",
        "\n",
        "init_ = tf.global_variables_initializer()"
      ],
      "execution_count": 0,
      "outputs": []
    },
    {
      "metadata": {
        "id": "eADqmd7NGQOj",
        "colab_type": "code",
        "colab": {
          "base_uri": "https://localhost:8080/",
          "height": 1751
        },
        "outputId": "ec5958b4-709f-4358-fc49-a810e3eb92a4"
      },
      "cell_type": "code",
      "source": [
        "num_epochs = 100\n",
        "\n",
        "with tf.Session() as sess:\n",
        "  sess.run(init_)\n",
        "  for i in range(num_epochs):\n",
        "    _, xnew = sess.run([trainer, x])\n",
        "    print(xnew)"
      ],
      "execution_count": 38,
      "outputs": [
        {
          "output_type": "stream",
          "text": [
            "80.0\n",
            "64.0\n",
            "51.2\n",
            "40.96\n",
            "32.767998\n",
            "26.214397\n",
            "20.971518\n",
            "16.777214\n",
            "13.421771\n",
            "10.737417\n",
            "8.589933\n",
            "6.871947\n",
            "5.4975576\n",
            "4.398046\n",
            "3.518437\n",
            "2.8147495\n",
            "2.2517996\n",
            "1.8014396\n",
            "1.4411517\n",
            "1.1529214\n",
            "0.9223372\n",
            "0.73786974\n",
            "0.5902958\n",
            "0.47223663\n",
            "0.37778932\n",
            "0.30223146\n",
            "0.24178517\n",
            "0.19342813\n",
            "0.15474251\n",
            "0.123794004\n",
            "0.0990352\n",
            "0.07922816\n",
            "0.06338253\n",
            "0.05070602\n",
            "0.040564816\n",
            "0.032451853\n",
            "0.025961483\n",
            "0.020769186\n",
            "0.01661535\n",
            "0.01329228\n",
            "0.010633824\n",
            "0.00850706\n",
            "0.006805648\n",
            "0.0054445183\n",
            "0.0043556145\n",
            "0.0034844917\n",
            "0.0027875933\n",
            "0.0022300747\n",
            "0.0017840598\n",
            "0.0014272479\n",
            "0.0011417983\n",
            "0.0009134387\n",
            "0.00073075097\n",
            "0.0005846008\n",
            "0.00046768063\n",
            "0.0003741445\n",
            "0.0002993156\n",
            "0.00023945249\n",
            "0.000191562\n",
            "0.0001532496\n",
            "0.00012259968\n",
            "9.807975e-05\n",
            "7.8463796e-05\n",
            "6.277104e-05\n",
            "5.0216833e-05\n",
            "4.0173465e-05\n",
            "3.213877e-05\n",
            "2.5711017e-05\n",
            "2.0568814e-05\n",
            "1.6455051e-05\n",
            "1.3164041e-05\n",
            "1.0531233e-05\n",
            "8.424986e-06\n",
            "6.7399887e-06\n",
            "5.391991e-06\n",
            "4.313593e-06\n",
            "3.4508744e-06\n",
            "2.7606995e-06\n",
            "2.2085596e-06\n",
            "1.7668477e-06\n",
            "1.4134782e-06\n",
            "1.1307826e-06\n",
            "9.0462606e-07\n",
            "7.2370085e-07\n",
            "5.789607e-07\n",
            "4.6316853e-07\n",
            "3.7053482e-07\n",
            "2.9642786e-07\n",
            "2.3714229e-07\n",
            "1.8971383e-07\n",
            "1.5177106e-07\n",
            "1.2141685e-07\n",
            "9.713348e-08\n",
            "7.770679e-08\n",
            "6.216543e-08\n",
            "4.9732343e-08\n",
            "3.9785874e-08\n",
            "3.1828698e-08\n",
            "2.5462958e-08\n",
            "2.0370367e-08\n"
          ],
          "name": "stdout"
        }
      ]
    },
    {
      "metadata": {
        "id": "AqANyuysQZ2J",
        "colab_type": "text"
      },
      "cell_type": "markdown",
      "source": [
        "Let's try something harder. Say we want to minimize\n",
        "\n",
        "$f(x,y) = 3x^2 + 2y^2 + 3x + y + 17$\n",
        "\n",
        "That is, we want to find that $x$ and $y$ for which $f(x,y)$ is minimum\n",
        "\n",
        "How would we do this? "
      ]
    },
    {
      "metadata": {
        "id": "FW4lDkipH7Qk",
        "colab_type": "code",
        "colab": {}
      },
      "cell_type": "code",
      "source": [
        "tf.reset_default_graph()\n",
        "\n",
        "#Write code below here\n",
        "x = tf.get_variable(\"indep_var\", dtype=tf.float32, initializer=tf.constant(220.0))\n",
        "y = tf.get_variable(\"indep_var2\", dtype=tf.float32, initializer=tf.constant(76.0))\n",
        "\n",
        "f = 3*tf.multiply(x,x) + 2*tf.multiply(y,y) + 3*x + y + 17\n",
        "grad = tf.train.GradientDescentOptimizer(learning_rate = 0.05)\n",
        "trainer = grad.minimize(f)\n",
        "\n",
        "init_ = tf.global_variables_initializer()\n"
      ],
      "execution_count": 0,
      "outputs": []
    },
    {
      "metadata": {
        "id": "imEVe3wDREGk",
        "colab_type": "code",
        "colab": {
          "base_uri": "https://localhost:8080/",
          "height": 1751
        },
        "outputId": "180e9477-2104-41ed-d65e-7ad9d47a5d5a"
      },
      "cell_type": "code",
      "source": [
        "num_epochs = 100\n",
        "\n",
        "with tf.Session() as sess:\n",
        "  sess.run(init_)\n",
        "  for i in range(num_epochs):\n",
        "    _, xnew, ynew = sess.run([trainer, x, y])\n",
        "    print(\"x: \" + str(xnew) + \"y:\" + str(ynew))"
      ],
      "execution_count": 56,
      "outputs": [
        {
          "output_type": "stream",
          "text": [
            "x: 153.85y:60.75\n",
            "x: 107.545006y:48.55\n",
            "x: 75.13151y:38.79\n",
            "x: 52.442055y:30.982\n",
            "x: 36.559437y:24.7356\n",
            "x: 25.441605y:19.73848\n",
            "x: 17.659122y:15.740784\n",
            "x: 12.211386y:12.542627\n",
            "x: 8.39797y:9.984102\n",
            "x: 5.728579y:7.9372816\n",
            "x: 3.8600051y:6.299825\n",
            "x: 2.5520036y:4.98986\n",
            "x: 1.6364025y:3.941888\n",
            "x: 0.9954817y:3.1035106\n",
            "x: 0.54683715y:2.4328084\n",
            "x: 0.232786y:1.8962467\n",
            "x: 0.01295019y:1.4669974\n",
            "x: -0.14093487y:1.1235979\n",
            "x: -0.24865441y:0.84887826\n",
            "x: -0.3240581y:0.6291026\n",
            "x: -0.37684065y:0.45328206\n",
            "x: -0.41378844y:0.31262565\n",
            "x: -0.4396519y:0.20010051\n",
            "x: -0.45775634y:0.1100804\n",
            "x: -0.47042942y:0.038064312\n",
            "x: -0.4793006y:-0.019548548\n",
            "x: -0.4855104y:-0.06563884\n",
            "x: -0.4898573y:-0.10251107\n",
            "x: -0.4929001y:-0.13200885\n",
            "x: -0.49503008y:-0.15560707\n",
            "x: -0.49652106y:-0.17448565\n",
            "x: -0.49756473y:-0.18958852\n",
            "x: -0.4982953y:-0.20167081\n",
            "x: -0.49880672y:-0.21133664\n",
            "x: -0.4991647y:-0.21906932\n",
            "x: -0.49941528y:-0.22525546\n",
            "x: -0.4995907y:-0.23020437\n",
            "x: -0.49971348y:-0.2341635\n",
            "x: -0.49979943y:-0.2373308\n",
            "x: -0.4998596y:-0.23986463\n",
            "x: -0.4999017y:-0.24189171\n",
            "x: -0.49993122y:-0.24351338\n",
            "x: -0.49995184y:-0.2448107\n",
            "x: -0.4999663y:-0.24584857\n",
            "x: -0.4999764y:-0.24667886\n",
            "x: -0.4999835y:-0.2473431\n",
            "x: -0.49998844y:-0.24787447\n",
            "x: -0.4999919y:-0.24829957\n",
            "x: -0.49999434y:-0.24863966\n",
            "x: -0.49999604y:-0.24891172\n",
            "x: -0.49999723y:-0.24912938\n",
            "x: -0.49999806y:-0.2493035\n",
            "x: -0.49999866y:-0.2494428\n",
            "x: -0.49999908y:-0.24955425\n",
            "x: -0.49999934y:-0.2496434\n",
            "x: -0.49999952y:-0.24971472\n",
            "x: -0.49999967y:-0.24977177\n",
            "x: -0.49999976y:-0.24981742\n",
            "x: -0.49999982y:-0.24985394\n",
            "x: -0.49999988y:-0.24988315\n",
            "x: -0.4999999y:-0.24990651\n",
            "x: -0.49999994y:-0.24992521\n",
            "x: -0.49999997y:-0.24994017\n",
            "x: -0.49999997y:-0.24995214\n",
            "x: -0.49999997y:-0.2499617\n",
            "x: -0.49999997y:-0.24996936\n",
            "x: -0.49999997y:-0.24997549\n",
            "x: -0.49999997y:-0.24998039\n",
            "x: -0.49999997y:-0.24998431\n",
            "x: -0.49999997y:-0.24998745\n",
            "x: -0.49999997y:-0.24998996\n",
            "x: -0.49999997y:-0.24999197\n",
            "x: -0.49999997y:-0.24999358\n",
            "x: -0.49999997y:-0.24999486\n",
            "x: -0.49999997y:-0.24999589\n",
            "x: -0.49999997y:-0.2499967\n",
            "x: -0.49999997y:-0.24999736\n",
            "x: -0.49999997y:-0.24999788\n",
            "x: -0.49999997y:-0.2499983\n",
            "x: -0.49999997y:-0.24999864\n",
            "x: -0.49999997y:-0.24999891\n",
            "x: -0.49999997y:-0.24999914\n",
            "x: -0.49999997y:-0.24999931\n",
            "x: -0.49999997y:-0.24999945\n",
            "x: -0.49999997y:-0.24999955\n",
            "x: -0.49999997y:-0.24999964\n",
            "x: -0.49999997y:-0.24999972\n",
            "x: -0.49999997y:-0.24999978\n",
            "x: -0.49999997y:-0.24999982\n",
            "x: -0.49999997y:-0.24999985\n",
            "x: -0.49999997y:-0.24999988\n",
            "x: -0.49999997y:-0.24999991\n",
            "x: -0.49999997y:-0.24999993\n",
            "x: -0.49999997y:-0.24999994\n",
            "x: -0.49999997y:-0.24999996\n",
            "x: -0.49999997y:-0.24999997\n",
            "x: -0.49999997y:-0.24999997\n",
            "x: -0.49999997y:-0.24999997\n",
            "x: -0.49999997y:-0.24999997\n",
            "x: -0.49999997y:-0.24999997\n"
          ],
          "name": "stdout"
        }
      ]
    },
    {
      "metadata": {
        "id": "kFAAgdYkRKzF",
        "colab_type": "code",
        "colab": {}
      },
      "cell_type": "code",
      "source": [
        ""
      ],
      "execution_count": 0,
      "outputs": []
    }
  ]
}