{
  "nbformat": 4,
  "nbformat_minor": 0,
  "metadata": {
    "colab": {
      "name": "Tensorflow_intro.ipynb",
      "version": "0.3.2",
      "provenance": [],
      "collapsed_sections": []
    },
    "kernelspec": {
      "name": "python3",
      "display_name": "Python 3"
    }
  },
  "cells": [
    {
      "metadata": {
        "id": "5C6e3U6tbaJj",
        "colab_type": "text"
      },
      "cell_type": "markdown",
      "source": [
        "# ACM AI | Beginner Track Bonus Material: Intro to Tensorflow\n",
        "Tensorflow is the framework of choice for many in the Machine Learning field. This intro should help you get started with using Tensorflow. "
      ]
    },
    {
      "metadata": {
        "id": "xw51RXzJb8Db",
        "colab_type": "text"
      },
      "cell_type": "markdown",
      "source": [
        "## What is a tensor?\n",
        "\n",
        "A tensor is an n-dimensional array. \n",
        "\n",
        "t1 = [1,2,3,4,5] is a 1-dimesional array,\n",
        "\n",
        "t2 = [\n",
        "[1,2,3,12],\n",
        "[4,5,6,45],\n",
        "[7,8,9,78]\n",
        "] is a 2-dimensional array, ... etc.\n",
        "\n",
        "### Rank of a tensor\n",
        "A tensor's rank is the **number of dimensions** the tensor has. It is basically ***n***, in the above definition\n",
        "\n",
        "### Shape of a tensor\n",
        "The shape of a tensor is a **list specifying the number of items in each dimension**. In the above example, the shape of t1 is [5], while the shape of t2 is [3,4]. \n",
        "\n",
        "How is the size of the shape (yup, that makes sense) related to the rank?"
      ]
    },
    {
      "metadata": {
        "id": "YAlf3u1SvdK3",
        "colab_type": "text"
      },
      "cell_type": "markdown",
      "source": [
        "## How Tensorflow works\n",
        "\n",
        "Tensorflow uses a dataflow graph to represet a program. Every **edge** in the graph is a **Tensor**, every **node** is an **Operation**, and the Tensors \"**flow**\" from one Operation to the next. \n",
        "\n",
        "![](https://www.tensorflow.org/images/tensors_flowing.gif)"
      ]
    },
    {
      "metadata": {
        "id": "nFYdK8P8BC7S",
        "colab_type": "text"
      },
      "cell_type": "markdown",
      "source": [
        "When you're writing a Tensorflow program, you're building this graph. But the Tensors in the graph (the edges) do not store the actual results of the Operations. The Tensors are just **handles**, telling the graph that a result is expected there. To actually get some actual results, you need to create a **Session** and **run** it. "
      ]
    },
    {
      "metadata": {
        "id": "WJB0e_hgCEFo",
        "colab_type": "text"
      },
      "cell_type": "markdown",
      "source": [
        "Let's get started"
      ]
    },
    {
      "metadata": {
        "id": "s3vH8wfRCJtH",
        "colab_type": "code",
        "colab": {}
      },
      "cell_type": "code",
      "source": [
        "import tensorflow as tf\n",
        "import numpy"
      ],
      "execution_count": 0,
      "outputs": []
    },
    {
      "metadata": {
        "id": "HsCSEyzvCR3Q",
        "colab_type": "code",
        "colab": {
          "base_uri": "https://localhost:8080/",
          "height": 35
        },
        "outputId": "a62dcf90-da9d-42ed-efb3-1b5b867bf214"
      },
      "cell_type": "code",
      "source": [
        "#Let's define some constants.\n",
        "c1 = tf.constant(42, dtype=tf.int32, shape = ()) # creates a tf.Operation that always produces the value 42. Returns a Tensor\n",
        "c2 = tf.constant(13, dtype=tf.int32, shape = ()) # you can also create arrays by changing the shape parameter\n",
        "\n",
        "#Let's multiply them\n",
        "mult = tf.multiply(c1,c2) # c1 * c2 also works, * is overloaded\n",
        "\n",
        "#Create a session\n",
        "with tf.Session() as sess:\n",
        "  print(sess.run(mult)) #To get the value of a Tensor or Operation, pass it into sess.run()"
      ],
      "execution_count": 45,
      "outputs": [
        {
          "output_type": "stream",
          "text": [
            "546\n"
          ],
          "name": "stdout"
        }
      ]
    },
    {
      "metadata": {
        "id": "BYq_LcpPEf_J",
        "colab_type": "text"
      },
      "cell_type": "markdown",
      "source": [
        "What if we don't know what values some input is going to take while writing the program.\n",
        "\n",
        "We can create a **Placeholder**"
      ]
    },
    {
      "metadata": {
        "id": "FdvRQbrrDMdw",
        "colab_type": "code",
        "colab": {}
      },
      "cell_type": "code",
      "source": [
        "p1 = tf.placeholder(tf.int32, shape=(2,3))\n",
        "p2 = tf.placeholder(tf.int32, shape=(2,3))\n",
        "\n",
        "add = p1 + p2 #why did we not have to use tf.add()? (Hint: overloading)\n",
        "\n",
        "arr1 = numpy.ndarray((2,3))\n",
        "arr2 = numpy.ndarray((2,3))\n",
        "arr3 = numpy.ndarray((2,3))\n",
        "\n",
        "for i in range(2):\n",
        "  for j in range(3):\n",
        "    arr1[i,j] = i + j\n",
        "    arr2[i,j] = i * j\n",
        "    arr3[i,j] = i ** j"
      ],
      "execution_count": 0,
      "outputs": []
    },
    {
      "metadata": {
        "id": "FiCip_ToIXOF",
        "colab_type": "code",
        "colab": {
          "base_uri": "https://localhost:8080/",
          "height": 52
        },
        "outputId": "af9f0dec-1d25-4188-f7f2-55b42ce2c80a"
      },
      "cell_type": "code",
      "source": [
        "with tf.Session() as sess:\n",
        "  print(sess.run(add, feed_dict={p1:arr1, p2:arr2})) # need to specify the value for the placeholders while running"
      ],
      "execution_count": 47,
      "outputs": [
        {
          "output_type": "stream",
          "text": [
            "[[0 1 2]\n",
            " [1 3 5]]\n"
          ],
          "name": "stdout"
        }
      ]
    },
    {
      "metadata": {
        "id": "6A1fIzk8HOfs",
        "colab_type": "code",
        "colab": {
          "base_uri": "https://localhost:8080/",
          "height": 52
        },
        "outputId": "5741dcd5-3bf5-4ed9-9333-1f7c30f3649d"
      },
      "cell_type": "code",
      "source": [
        "with tf.Session() as sess:\n",
        "  print(sess.run(add, feed_dict={p1:arr1, p2:arr3})) # with different p2"
      ],
      "execution_count": 48,
      "outputs": [
        {
          "output_type": "stream",
          "text": [
            "[[1 1 2]\n",
            " [2 3 4]]\n"
          ],
          "name": "stdout"
        }
      ]
    },
    {
      "metadata": {
        "id": "T5u9eUWAIvrW",
        "colab_type": "text"
      },
      "cell_type": "markdown",
      "source": [
        "Now what if we want to store data that is maintained across multiple run()s? We use **Variables**\n",
        "\n",
        "Why would we need to maintain such data? "
      ]
    },
    {
      "metadata": {
        "id": "ZPwGmAcYHmxK",
        "colab_type": "code",
        "colab": {}
      },
      "cell_type": "code",
      "source": [
        "var1 = tf.Variable([0,0,0]) # shape and data type of variable is determined by the initial value provided as argument\n",
        "\n",
        "toAdd = tf.constant([1,1,1], dtype=tf.int32)\n",
        "\n",
        "assign_op = tf.assign(var1, var1 + toAdd)\n",
        "\n",
        "init_ = tf.global_variables_initializer() #before a variable can be used for the first time, it must be initialized\n"
      ],
      "execution_count": 0,
      "outputs": []
    },
    {
      "metadata": {
        "id": "XVCaRu-AL2Oz",
        "colab_type": "code",
        "colab": {
          "base_uri": "https://localhost:8080/",
          "height": 104
        },
        "outputId": "5966cca0-2add-4c3e-b47c-d4111a3ba839"
      },
      "cell_type": "code",
      "source": [
        "with tf.Session() as sess:\n",
        "  sess.run(init_)\n",
        "  for i in range(5):\n",
        "    print(sess.run(assign_op))\n",
        "    \n",
        "#We see that the value of var1 persists across the multiple runs: it doesn't start off from [0,0,0] every time\n",
        "#WARNING: We've used tf.assign() here, but it is slightly more complicated than it seems. \n",
        "#Things start getting weird when other operations depend on var1. You might expect the assign_op to run before, but it ends up not running\n",
        "#We probably won't be using tf.assign() for anything other than explanatory purposes\n",
        "#Come up and talk to us later if you're curious about this"
      ],
      "execution_count": 50,
      "outputs": [
        {
          "output_type": "stream",
          "text": [
            "[1 1 1]\n",
            "[2 2 2]\n",
            "[3 3 3]\n",
            "[4 4 4]\n",
            "[5 5 5]\n"
          ],
          "name": "stdout"
        }
      ]
    },
    {
      "metadata": {
        "id": "iGDZZAxZL9lu",
        "colab_type": "code",
        "colab": {}
      },
      "cell_type": "code",
      "source": [
        ""
      ],
      "execution_count": 0,
      "outputs": []
    }
  ]
}