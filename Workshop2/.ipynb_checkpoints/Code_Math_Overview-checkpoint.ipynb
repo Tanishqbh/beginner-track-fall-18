{
 "cells": [
  {
   "cell_type": "markdown",
   "metadata": {
    "colab_type": "text",
    "id": "TFu3FGMK4yhU"
   },
   "source": [
    "# ACM AI | Beginner Track Workshop #2: Code + Math Overview\n",
    "\n",
    "## What you'll learn\n",
    "\n",
    "### Code\n",
    "General coding constructs like loops, conditionals, functions etc. We'll also go over concepts used extensively in Machine Learning and the rest of our series: Vectors and manipulating \n",
    "Vectors through code.\n",
    "\n",
    "### Math\n",
    "Linear Algebra concepts like Matrix Multiplication, vector addition, dot products, etc. \n",
    "We'll be going over concepts from Multi Variable Calculus like gradients and partial derivatives, but we'll also give you the Single Variable Calculus equivalent.\n",
    "\n",
    "So let's get into it!\n",
    "\n",
    "## Why do we code?\n",
    "Humans are generally smarter than computers (for now), but machines can perform some types of functions quickly and repeatedly. The sheer speed of computers is what makes them indipensible. To make computers use that speed in ways we want them to, we code. \n"
   ]
  },
  {
   "cell_type": "markdown",
   "metadata": {
    "colab_type": "text",
    "id": "FYSqMRXF71Oc"
   },
   "source": [
    "### So what are some things a computer can do?"
   ]
  },
  {
   "cell_type": "markdown",
   "metadata": {
    "colab_type": "text",
    "id": "WPyw6nY776ZG"
   },
   "source": [
    " A computer can **store data**"
   ]
  },
  {
   "cell_type": "code",
   "execution_count": null,
   "metadata": {
    "colab": {},
    "colab_type": "code",
    "id": "af6332qN7qd7"
   },
   "outputs": [],
   "source": [
    "#variables, arrays, lists"
   ]
  },
  {
   "cell_type": "markdown",
   "metadata": {
    "colab_type": "text",
    "id": "EJa1yOjA8DNh"
   },
   "source": [
    "A computer can **make some decision** based on the data and some **condition**\n",
    "\n"
   ]
  },
  {
   "cell_type": "code",
   "execution_count": null,
   "metadata": {
    "colab": {},
    "colab_type": "code",
    "id": "-l3NyPJ58M8l"
   },
   "outputs": [],
   "source": [
    "#if...else"
   ]
  },
  {
   "cell_type": "markdown",
   "metadata": {
    "colab_type": "text",
    "id": "jAS7Cj3e8RFe"
   },
   "source": [
    "A computer can carry out a task **repeatedly** a large number of times"
   ]
  },
  {
   "cell_type": "code",
   "execution_count": null,
   "metadata": {
    "colab": {},
    "colab_type": "code",
    "id": "NGv9Y14K8vrR"
   },
   "outputs": [],
   "source": [
    "#for, while"
   ]
  },
  {
   "cell_type": "markdown",
   "metadata": {
    "colab_type": "text",
    "id": "dOG_Yjjx9Ctu"
   },
   "source": [
    "### Coders are lazy\n",
    "\n",
    "A program can often include thousands of lines of code. To make life easier for ouselves, we introduce concepts that make the programming process more efficient and the code easier to understand."
   ]
  },
  {
   "cell_type": "markdown",
   "metadata": {
    "colab_type": "text",
    "id": "7YCzhTAF9-na"
   },
   "source": [
    "#### Functions \n",
    "\n",
    "Oftentimes, we see the same snippet of code being used in different parts of the program. Instead of writing out this snippet every time we need it, we think of it as one whole unit, we give this unit a name, and we run this unit whenever we need to run the snippet of code. This unit is called a **function**. \n",
    "\n",
    "We give these functions intuitive names, which are often descriptive of the tast the function performs. "
   ]
  },
  {
   "cell_type": "code",
   "execution_count": null,
   "metadata": {
    "colab": {},
    "colab_type": "code",
    "id": "wppWIwdI_VPm"
   },
   "outputs": [],
   "source": [
    "#functions"
   ]
  },
  {
   "cell_type": "markdown",
   "metadata": {
    "colab_type": "text",
    "id": "Zn4BYv-A_dwx"
   },
   "source": [
    "#### Libraries/Packages\n",
    "\n",
    "To cater to coders' laziness, some coders have already written code that other coders don't want to write themselves. Such code often deals with common tasks that lots of programmers face while trying to solve problems. Such code written for use by others is wrapped up in a unit called a **Library** or a **Package**. \n",
    "\n",
    "Libraries often contain functions and even data items within them. It is convention for a library to contain functions that deal with similar problems. For example, the *numpy* Python library has functions that help with the manipulation of lists, arrays and the like. The *matplotlib* library helps in plotting graphs and mathematical functions. "
   ]
  },
  {
   "cell_type": "code",
   "execution_count": null,
   "metadata": {
    "colab": {},
    "colab_type": "code",
    "id": "f19xFKplBTYU"
   },
   "outputs": [],
   "source": [
    "#libraries, import"
   ]
  },
  {
   "cell_type": "markdown",
   "metadata": {
    "colab_type": "text",
    "id": "tNslzJ9IB822"
   },
   "source": [
    "## Let's go over some Math now\n",
    "\n",
    "### Vectors\n",
    "A Vector or n-Vector, for our purposes, is a 1-dimensional list/array of n data items of the same type. \n",
    "\n",
    "### Matrices\n",
    "A Matrix is a 2-dimensional list/array. It can be thought of as a list of lists or a list of Vectors. \n",
    "\n",
    "We'll use numpy to work with Vectors and Matrices "
   ]
  },
  {
   "cell_type": "code",
   "execution_count": null,
   "metadata": {
    "colab": {},
    "colab_type": "code",
    "id": "n1i0TowXHIlH"
   },
   "outputs": [],
   "source": [
    "import numpy as np"
   ]
  },
  {
   "cell_type": "code",
   "execution_count": null,
   "metadata": {
    "colab": {},
    "colab_type": "code",
    "id": "U3Aq3M5focKz"
   },
   "outputs": [],
   "source": []
  },
  {
   "cell_type": "markdown",
   "metadata": {
    "colab_type": "text",
    "id": "BNPkjn5_HMew"
   },
   "source": [
    "### Operations on Vectors and Matrices"
   ]
  },
  {
   "cell_type": "markdown",
   "metadata": {
    "colab_type": "text",
    "id": "nMTws4z3K31K"
   },
   "source": [
    "#### Vector addition"
   ]
  },
  {
   "cell_type": "markdown",
   "metadata": {
    "colab_type": "text",
    "id": "3OozovKmudxs"
   },
   "source": [
    "![](https://drive.google.com/uc?export=view&id=14C3Yh0lqYOysfoW4dEMoIHLk_chNo7sp)\n"
   ]
  },
  {
   "cell_type": "code",
   "execution_count": null,
   "metadata": {
    "colab": {},
    "colab_type": "code",
    "id": "yz1oGkbkLCft"
   },
   "outputs": [],
   "source": []
  },
  {
   "cell_type": "code",
   "execution_count": null,
   "metadata": {
    "colab": {},
    "colab_type": "code",
    "id": "pvgp0Abdn_ki"
   },
   "outputs": [],
   "source": []
  },
  {
   "cell_type": "markdown",
   "metadata": {
    "colab_type": "text",
    "id": "jIag6gnCK9ma"
   },
   "source": [
    "#### Matrix - Vector Multiplication\n",
    "![](https://drive.google.com/uc?export=view&id=1iXT7qxE5iDX_PCsF6WSC26YScQ53H05f)"
   ]
  },
  {
   "cell_type": "code",
   "execution_count": null,
   "metadata": {
    "colab": {},
    "colab_type": "code",
    "id": "41fZUIkRLEV6"
   },
   "outputs": [],
   "source": [
    "#matrix vector multiplication"
   ]
  },
  {
   "cell_type": "markdown",
   "metadata": {
    "colab_type": "text",
    "id": "Ge_w-4N9LAuD"
   },
   "source": [
    "#### Matrix - Matrix Multiplication\n",
    "Perform Matrix-Vector multiplication, but for multiple vectors"
   ]
  },
  {
   "cell_type": "code",
   "execution_count": null,
   "metadata": {
    "colab": {},
    "colab_type": "code",
    "id": "hnjJkDLRLFyd"
   },
   "outputs": [],
   "source": [
    "#matrix matrix multiplication"
   ]
  },
  {
   "cell_type": "markdown",
   "metadata": {
    "colab_type": "text",
    "id": "KlPb5KYVGyC0"
   },
   "source": [
    "#### Dot Product\n",
    "TODO: insert equation"
   ]
  },
  {
   "cell_type": "code",
   "execution_count": null,
   "metadata": {
    "colab": {},
    "colab_type": "code",
    "id": "melfUGyDHEBh"
   },
   "outputs": [],
   "source": [
    "#dot"
   ]
  },
  {
   "cell_type": "markdown",
   "metadata": {
    "colab_type": "text",
    "id": "xcatgd5tHFNw"
   },
   "source": [
    "#### Transpose of a matrix/vector\n",
    "TODO: insert equations"
   ]
  },
  {
   "cell_type": "code",
   "execution_count": null,
   "metadata": {
    "colab": {},
    "colab_type": "code",
    "id": "aaZFlv7WH0oO"
   },
   "outputs": [],
   "source": [
    "#transpose"
   ]
  },
  {
   "cell_type": "markdown",
   "metadata": {
    "colab_type": "text",
    "id": "aIMDOYoDH3lY"
   },
   "source": [
    "### Calculus concepts\n",
    "\n",
    "#### Given a function $f(x)$, find minimum \n",
    "\n",
    "Let's consider $f(x) = x^2$\n",
    "\n",
    "Move down slope to reach minimum\n",
    "\n",
    "How would you find slope?\n",
    "\n",
    "Take derivative\n",
    "\n",
    "Change x such that function decreases:\n",
    "\n",
    "$x_{new} = x_{old} - \\alpha \\frac{df(x)}{dt}$\n",
    "\n",
    "Why does this work? (Note: This works for any function, not just $x^2$)\n",
    "\n",
    "Do this until you come close to 0\n",
    "\n"
   ]
  },
  {
   "cell_type": "code",
   "execution_count": null,
   "metadata": {
    "colab": {
     "base_uri": "https://localhost:8080/",
     "height": 1751
    },
    "colab_type": "code",
    "id": "n6ddgU5sUw7X",
    "outputId": "f5887132-61a7-4016-b78e-824a1d65488e"
   },
   "outputs": [],
   "source": [
    "num_epochs = 100\n",
    "learning_rate = 0.1\n",
    "x = 100\n",
    "\n",
    "def derivativeAt(x):\n",
    "  return 2 * x\n",
    "\n",
    "for i in range(num_epochs):\n",
    "  x = x - learning_rate*derivativeAt(x)\n",
    "  print(x)"
   ]
  },
  {
   "cell_type": "markdown",
   "metadata": {
    "colab_type": "text",
    "id": "ho-VuL6kVZpa"
   },
   "source": [
    "#### Gradient\n",
    "\n",
    "What would we do if $f(x_1, x_2, ... ,x_n )$ ?\n",
    "\n",
    "Take partial derivative with respect to each variable. \n",
    "\n",
    "What is partial derivative?\n",
    "\n",
    "Once find partial derivative, do the same as above for each variable. \n",
    "\n",
    "Can do for all variables at once using vectors. Call this vector Gradient\n",
    "\n",
    "Say $f(x,y) = 3x^2 + 2y^2 + x + 3y + 17$\n"
   ]
  },
  {
   "cell_type": "code",
   "execution_count": null,
   "metadata": {
    "colab": {
     "base_uri": "https://localhost:8080/",
     "height": 1751
    },
    "colab_type": "code",
    "id": "OAMWqEk4V8jm",
    "outputId": "f2e1925e-bd07-401f-ca76-419ab22178b9"
   },
   "outputs": [],
   "source": [
    "num_epochs = 100\n",
    "learning_rate = 0.1\n",
    "variables = numpy.array([220,76])\n",
    "\n",
    "def gradient(variables):\n",
    "  dfdx = 6*variables[0] + 1\n",
    "  dfdy = 4*variables[1] + 3\n",
    "  return numpy.array([dfdx, dfdy])\n",
    "\n",
    "for i in range(num_epochs):\n",
    "  variables = variables - learning_rate*gradient(variables)\n",
    "  print(variables)\n"
   ]
  },
  {
   "cell_type": "code",
   "execution_count": null,
   "metadata": {
    "colab": {},
    "colab_type": "code",
    "id": "A6xLIJt_ryow"
   },
   "outputs": [],
   "source": []
  }
 ],
 "metadata": {
  "colab": {
   "collapsed_sections": [],
   "name": "Code_Math_Overview.ipynb",
   "provenance": [],
   "version": "0.3.2"
  },
  "kernelspec": {
   "display_name": "Python 3",
   "language": "python",
   "name": "python3"
  },
  "language_info": {
   "codemirror_mode": {
    "name": "ipython",
    "version": 3
   },
   "file_extension": ".py",
   "mimetype": "text/x-python",
   "name": "python",
   "nbconvert_exporter": "python",
   "pygments_lexer": "ipython3",
   "version": "3.6.5"
  }
 },
 "nbformat": 4,
 "nbformat_minor": 1
}
