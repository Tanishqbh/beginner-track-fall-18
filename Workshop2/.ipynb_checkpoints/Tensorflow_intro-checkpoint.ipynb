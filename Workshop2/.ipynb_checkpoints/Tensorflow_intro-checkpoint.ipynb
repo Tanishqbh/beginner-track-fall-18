{
 "cells": [
  {
   "cell_type": "markdown",
   "metadata": {
    "colab_type": "text",
    "id": "5C6e3U6tbaJj"
   },
   "source": [
    "# ACM AI | Beginner Track Bonus Material: Intro to Tensorflow\n",
    "Tensorflow is the framework of choice for many in the Machine Learning field. This intro should help you get started with using Tensorflow."
   ]
  },
  {
   "cell_type": "markdown",
   "metadata": {
    "colab_type": "text",
    "id": "xw51RXzJb8Db"
   },
   "source": [
    "## What is a tensor?\n",
    "\n",
    "A tensor is an n-dimensional array. \n",
    "\n",
    "t1 = [1,2,3,4,5] is a 1-dimesional array,\n",
    "\n",
    "t2 = [\n",
    "[1,2,3,12],\n",
    "[4,5,6,45],\n",
    "[7,8,9,78]\n",
    "] is a 2-dimensional array, ... etc.\n",
    "\n",
    "### Rank of a tensor\n",
    "A tensor's rank is the **number of dimensions** the tensor has. It is basically ***n***, in the above definition\n",
    "\n",
    "### Shape of a tensor\n",
    "The shape of a tensor is a **list specifying the number of items in each dimension**. In the above example, the shape of t1 is [5], while the shape of t2 is [3,4]. \n",
    "\n",
    "How is the size of the shape (yup, that makes sense) related to the rank?"
   ]
  },
  {
   "cell_type": "markdown",
   "metadata": {
    "colab_type": "text",
    "id": "YAlf3u1SvdK3"
   },
   "source": [
    "## How Tensorflow works\n",
    "\n",
    "Tensorflow uses a dataflow graph to represet a program. Every **edge** in the graph is a **Tensor**, every **node** is an **Operation**, and the Tensors \"**flow**\" from one Operation to the next. \n",
    "\n",
    "![](https://www.tensorflow.org/images/tensors_flowing.gif)"
   ]
  },
  {
   "cell_type": "markdown",
   "metadata": {
    "colab_type": "text",
    "id": "nFYdK8P8BC7S"
   },
   "source": [
    "When you're writing a Tensorflow program, you're building this graph. But the Tensors in the graph (the edges) do not store the actual results of the Operations. The Tensors are just **handles**, telling the graph that a result is expected there. To actually get some actual results, you need to create a **Session** and **run** it. "
   ]
  },
  {
   "cell_type": "markdown",
   "metadata": {
    "colab_type": "text",
    "id": "WJB0e_hgCEFo"
   },
   "source": [
    "Let's get started"
   ]
  },
  {
   "cell_type": "code",
   "execution_count": null,
   "metadata": {
    "colab": {},
    "colab_type": "code",
    "id": "s3vH8wfRCJtH"
   },
   "outputs": [],
   "source": [
    "import tensorflow as tf\n",
    "import numpy"
   ]
  },
  {
   "cell_type": "code",
   "execution_count": null,
   "metadata": {
    "colab": {
     "base_uri": "https://localhost:8080/",
     "height": 35
    },
    "colab_type": "code",
    "id": "HsCSEyzvCR3Q",
    "outputId": "a73b855b-fafb-42f8-c648-629a60896193"
   },
   "outputs": [],
   "source": [
    "#Let's define some constants.\n",
    "c1 = tf.constant(3, dtype=tf.int32, shape = ()) # creates a tf.Operation that always produces the value 3. Returns a Tensor\n",
    "c2 = tf.constant(14, dtype=tf.int32, shape = ()) # you can also create arrays by changing the shape parameter\n",
    "\n",
    "#Let's multiply them\n",
    "mult = tf.multiply(c1,c2) # c1 * c2 also works, * is overloaded\n",
    "\n",
    "#Create a session\n",
    "with tf.Session() as sess:\n",
    "    print(sess.run(mult)) #To get the value of a Tensor or Operation, pass it into sess.run()"
   ]
  },
  {
   "cell_type": "markdown",
   "metadata": {
    "colab_type": "text",
    "id": "BYq_LcpPEf_J"
   },
   "source": [
    "What if we don't know what values some input is going to take while writing the program.\n",
    "\n",
    "We can create a **Placeholder**"
   ]
  },
  {
   "cell_type": "code",
   "execution_count": null,
   "metadata": {
    "colab": {},
    "colab_type": "code",
    "id": "FdvRQbrrDMdw"
   },
   "outputs": [],
   "source": [
    "p1 = tf.placeholder(tf.int32, shape=(2,3))\n",
    "p2 = tf.placeholder(tf.int32, shape=(2,3))\n",
    "\n",
    "add = p1 + p2 #why did we not have to use tf.add()? (Hint: overloading)\n",
    "\n",
    "arr1 = numpy.ndarray((2,3))\n",
    "arr2 = numpy.ndarray((2,3))\n",
    "arr3 = numpy.ndarray((2,3))\n",
    "\n",
    "#creating some arbitrary arrays\n",
    "for i in range(2):\n",
    "    for j in range(3):\n",
    "        arr1[i,j] = i + j\n",
    "        arr2[i,j] = i * j\n",
    "        arr3[i,j] = i ** j"
   ]
  },
  {
   "cell_type": "code",
   "execution_count": null,
   "metadata": {
    "colab": {
     "base_uri": "https://localhost:8080/",
     "height": 52
    },
    "colab_type": "code",
    "id": "FiCip_ToIXOF",
    "outputId": "7f4187dc-57fc-4411-fc3c-acd754697302"
   },
   "outputs": [],
   "source": [
    "with tf.Session() as sess:\n",
    "    print(sess.run(add, feed_dict={p1:arr1, p2:arr2})) # need to specify the value for the placeholders while running"
   ]
  },
  {
   "cell_type": "code",
   "execution_count": null,
   "metadata": {
    "colab": {
     "base_uri": "https://localhost:8080/",
     "height": 52
    },
    "colab_type": "code",
    "id": "6A1fIzk8HOfs",
    "outputId": "c0c771b7-8e74-4316-89e1-ec979043b4b7"
   },
   "outputs": [],
   "source": [
    "#TODO: run \"add\" as above, but with different input"
   ]
  },
  {
   "cell_type": "markdown",
   "metadata": {
    "colab_type": "text",
    "id": "T5u9eUWAIvrW"
   },
   "source": [
    "Now what if we want to store data that is maintained across multiple run()s? We use **Variables**\n",
    "\n",
    "Why would we need to maintain such data? "
   ]
  },
  {
   "cell_type": "code",
   "execution_count": null,
   "metadata": {
    "colab": {},
    "colab_type": "code",
    "id": "ZPwGmAcYHmxK"
   },
   "outputs": [],
   "source": [
    "var1 = tf.Variable([0,0,0]) # shape and data type of variable is determined by the initial value provided as argument\n",
    "\n",
    "toAdd = tf.constant([1,1,1], dtype=tf.int32)\n",
    "\n",
    "assign_op = tf.assign(var1, var1 + toAdd)\n",
    "\n",
    "init_ = tf.global_variables_initializer() #before a variable can be used for the first time, it must be initialized"
   ]
  },
  {
   "cell_type": "code",
   "execution_count": null,
   "metadata": {
    "colab": {
     "base_uri": "https://localhost:8080/",
     "height": 104
    },
    "colab_type": "code",
    "id": "XVCaRu-AL2Oz",
    "outputId": "bba78d83-e4a3-4064-ebea-50634a62ee0b"
   },
   "outputs": [],
   "source": [
    "with tf.Session() as sess:\n",
    "    sess.run(init_)\n",
    "    for i in range(5):\n",
    "        print(sess.run(assign_op))"
   ]
  },
  {
   "cell_type": "markdown",
   "metadata": {},
   "source": [
    "We see that the value of var1 persists across the multiple runs: it doesn't start off from [0,0,0] every time\n",
    "**WARNING**: We've used tf.assign() here, but it is slightly more complicated than it seems. \n",
    "Things start getting weird when other operations depend on var1. You might expect the assign_op to run before, but it ends up not running\n",
    "We probably won't be using tf.assign() for anything other than explanatory purposes\n",
    "Come up and talk to us later if you're curious about this"
   ]
  },
  {
   "cell_type": "markdown",
   "metadata": {
    "colab_type": "text",
    "id": "ZreLMxC4MDNY"
   },
   "source": [
    "So let's try finding the minimum of a function using Tensorflow. \n",
    "Tensorflow provides some nice tools called **Optimizers** that can do just this. \n",
    "\n",
    "Let's see how this is done"
   ]
  },
  {
   "cell_type": "code",
   "execution_count": null,
   "metadata": {
    "colab": {},
    "colab_type": "code",
    "id": "iGDZZAxZL9lu"
   },
   "outputs": [],
   "source": [
    "tf.reset_default_graph()    #Let's clean up our graph\n",
    "\n",
    "#get_variable() is another way (the one we'd recommend) for defining variables in Tensorflow\n",
    "#While using this you are forced to give the variable a name\n",
    "#Keeping track of variables, thus, becomes easier, and a lot more functionality is added\n",
    "#WARNING: You can't use get_variable to create two variables of the same name. \n",
    "#Things, again, get complicated because of the way Tensorflow works\n",
    "#You'll have to know about collections, etc., so come talk to us to know more\n",
    "\n",
    "\n",
    "x = tf.get_variable(\"indep_var\", dtype=tf.float32, initializer=tf.constant(100.0)) \n",
    "#try changing the inital value of the variable to see what happens\n",
    "\n",
    "f = tf.multiply(x,x)\n",
    "\n",
    "#This is one sort of Optimizer: Gradient Descet Optimizer\n",
    "grad = tf.train.GradientDescentOptimizer(learning_rate = 0.1) #what happens if we use learning_rate = 1? Why?\n",
    "\n",
    "#We want to minimize f\n",
    "trainer = grad.minimize(f)\n",
    "\n",
    "init_ = tf.global_variables_initializer()"
   ]
  },
  {
   "cell_type": "code",
   "execution_count": null,
   "metadata": {
    "colab": {
     "base_uri": "https://localhost:8080/",
     "height": 1751
    },
    "colab_type": "code",
    "id": "eADqmd7NGQOj",
    "outputId": "ec5958b4-709f-4358-fc49-a810e3eb92a4"
   },
   "outputs": [],
   "source": [
    "num_epochs = 100\n",
    "\n",
    "with tf.Session() as sess:\n",
    "    sess.run(init_)\n",
    "    for i in range(num_epochs):\n",
    "        _, xnew = sess.run([trainer, x])\n",
    "        print(xnew)"
   ]
  },
  {
   "cell_type": "markdown",
   "metadata": {
    "colab_type": "text",
    "id": "AqANyuysQZ2J"
   },
   "source": [
    "Let's try something harder. Say we want to minimize\n",
    "\n",
    "$f(x,y) = 3x^2 + 2y^2 + 3x + y + 17$\n",
    "\n",
    "That is, we want to find that $x$ and $y$ for which $f(x,y)$ is minimum\n",
    "\n",
    "How would we do this? "
   ]
  },
  {
   "cell_type": "code",
   "execution_count": null,
   "metadata": {
    "colab": {},
    "colab_type": "code",
    "id": "FW4lDkipH7Qk"
   },
   "outputs": [],
   "source": [
    "tf.reset_default_graph()\n",
    "\n",
    "#Write code below here. Don't forget to initialize any variables you may create (look at init_ from above)\n"
   ]
  },
  {
   "cell_type": "code",
   "execution_count": null,
   "metadata": {
    "colab": {
     "base_uri": "https://localhost:8080/",
     "height": 1751
    },
    "colab_type": "code",
    "id": "imEVe3wDREGk",
    "outputId": "180e9477-2104-41ed-d65e-7ad9d47a5d5a"
   },
   "outputs": [],
   "source": [
    "\n",
    "\n",
    "\n",
    "#End code"
   ]
  },
  {
   "cell_type": "code",
   "execution_count": null,
   "metadata": {
    "colab": {},
    "colab_type": "code",
    "id": "kFAAgdYkRKzF"
   },
   "outputs": [],
   "source": []
  }
 ],
 "metadata": {
  "colab": {
   "collapsed_sections": [],
   "name": "Tensorflow_intro.ipynb",
   "provenance": [],
   "version": "0.3.2"
  },
  "kernelspec": {
   "display_name": "Python 3",
   "language": "python",
   "name": "python3"
  },
  "language_info": {
   "codemirror_mode": {
    "name": "ipython",
    "version": 3
   },
   "file_extension": ".py",
   "mimetype": "text/x-python",
   "name": "python",
   "nbconvert_exporter": "python",
   "pygments_lexer": "ipython3",
   "version": "3.6.5"
  }
 },
 "nbformat": 4,
 "nbformat_minor": 1
}
